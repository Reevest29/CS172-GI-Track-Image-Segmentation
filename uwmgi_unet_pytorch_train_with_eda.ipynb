{
  "cells": [
    {
      "cell_type": "markdown",
      "id": "fe618959",
      "metadata": {
        "papermill": {
          "duration": 0.046816,
          "end_time": "2022-05-03T10:25:50.729785",
          "exception": false,
          "start_time": "2022-05-03T10:25:50.682969",
          "status": "completed"
        },
        "tags": [],
        "id": "fe618959"
      },
      "source": [
        "# **UWMGI: Unet PyTorch [Train] with EDA**"
      ]
    },
    {
      "cell_type": "markdown",
      "id": "cebb3c12",
      "metadata": {
        "papermill": {
          "duration": 0.039858,
          "end_time": "2022-05-03T10:25:50.970808",
          "exception": false,
          "start_time": "2022-05-03T10:25:50.930950",
          "status": "completed"
        },
        "tags": [],
        "id": "cebb3c12"
      },
      "source": [
        "# Install Libraries"
      ]
    },
    {
      "cell_type": "code",
      "execution_count": 24,
      "id": "3fc76a77",
      "metadata": {
        "execution": {
          "iopub.execute_input": "2022-05-03T10:25:51.053970Z",
          "iopub.status.busy": "2022-05-03T10:25:51.053569Z",
          "iopub.status.idle": "2022-05-03T10:26:08.196244Z",
          "shell.execute_reply": "2022-05-03T10:26:08.195360Z"
        },
        "papermill": {
          "duration": 17.186971,
          "end_time": "2022-05-03T10:26:08.198824",
          "exception": false,
          "start_time": "2022-05-03T10:25:51.011853",
          "status": "completed"
        },
        "tags": [],
        "id": "3fc76a77"
      },
      "outputs": [],
      "source": [
        "!pip install -q segmentation_models_pytorch"
      ]
    },
    {
      "cell_type": "markdown",
      "id": "a9eef9c8",
      "metadata": {
        "papermill": {
          "duration": 0.040252,
          "end_time": "2022-05-03T10:26:08.280813",
          "exception": false,
          "start_time": "2022-05-03T10:26:08.240561",
          "status": "completed"
        },
        "tags": [],
        "id": "a9eef9c8"
      },
      "source": [
        "# Import Libraries "
      ]
    },
    {
      "cell_type": "code",
      "execution_count": 25,
      "id": "e16ea528",
      "metadata": {
        "_kg_hide-input": false,
        "execution": {
          "iopub.execute_input": "2022-05-03T10:26:08.363574Z",
          "iopub.status.busy": "2022-05-03T10:26:08.362729Z",
          "iopub.status.idle": "2022-05-03T10:26:16.995711Z",
          "shell.execute_reply": "2022-05-03T10:26:16.994963Z"
        },
        "papermill": {
          "duration": 8.676684,
          "end_time": "2022-05-03T10:26:16.997976",
          "exception": false,
          "start_time": "2022-05-03T10:26:08.321292",
          "status": "completed"
        },
        "tags": [],
        "colab": {
          "base_uri": "https://localhost:8080/"
        },
        "id": "e16ea528",
        "outputId": "5780d246-3d7c-4914-9fd2-0f703044680d"
      },
      "outputs": [
        {
          "output_type": "stream",
          "name": "stdout",
          "text": [
            "Looking in indexes: https://pypi.org/simple, https://us-python.pkg.dev/colab-wheels/public/simple/\n",
            "Requirement already satisfied: albumentations==0.4.6 in /usr/local/lib/python3.7/dist-packages (0.4.6)\n",
            "Requirement already satisfied: PyYAML in /usr/local/lib/python3.7/dist-packages (from albumentations==0.4.6) (3.13)\n",
            "Requirement already satisfied: scipy in /usr/local/lib/python3.7/dist-packages (from albumentations==0.4.6) (1.4.1)\n",
            "Requirement already satisfied: imgaug>=0.4.0 in /usr/local/lib/python3.7/dist-packages (from albumentations==0.4.6) (0.4.0)\n",
            "Requirement already satisfied: opencv-python>=4.1.1 in /usr/local/lib/python3.7/dist-packages (from albumentations==0.4.6) (4.1.2.30)\n",
            "Requirement already satisfied: numpy>=1.11.1 in /usr/local/lib/python3.7/dist-packages (from albumentations==0.4.6) (1.21.6)\n",
            "Requirement already satisfied: Shapely in /usr/local/lib/python3.7/dist-packages (from imgaug>=0.4.0->albumentations==0.4.6) (1.8.2)\n",
            "Requirement already satisfied: Pillow in /usr/local/lib/python3.7/dist-packages (from imgaug>=0.4.0->albumentations==0.4.6) (7.1.2)\n",
            "Requirement already satisfied: six in /usr/local/lib/python3.7/dist-packages (from imgaug>=0.4.0->albumentations==0.4.6) (1.15.0)\n",
            "Requirement already satisfied: scikit-image>=0.14.2 in /usr/local/lib/python3.7/dist-packages (from imgaug>=0.4.0->albumentations==0.4.6) (0.18.3)\n",
            "Requirement already satisfied: imageio in /usr/local/lib/python3.7/dist-packages (from imgaug>=0.4.0->albumentations==0.4.6) (2.4.1)\n",
            "Requirement already satisfied: matplotlib in /usr/local/lib/python3.7/dist-packages (from imgaug>=0.4.0->albumentations==0.4.6) (3.2.2)\n",
            "Requirement already satisfied: tifffile>=2019.7.26 in /usr/local/lib/python3.7/dist-packages (from scikit-image>=0.14.2->imgaug>=0.4.0->albumentations==0.4.6) (2021.11.2)\n",
            "Requirement already satisfied: PyWavelets>=1.1.1 in /usr/local/lib/python3.7/dist-packages (from scikit-image>=0.14.2->imgaug>=0.4.0->albumentations==0.4.6) (1.3.0)\n",
            "Requirement already satisfied: networkx>=2.0 in /usr/local/lib/python3.7/dist-packages (from scikit-image>=0.14.2->imgaug>=0.4.0->albumentations==0.4.6) (2.6.3)\n",
            "Requirement already satisfied: pyparsing!=2.0.4,!=2.1.2,!=2.1.6,>=2.0.1 in /usr/local/lib/python3.7/dist-packages (from matplotlib->imgaug>=0.4.0->albumentations==0.4.6) (3.0.9)\n",
            "Requirement already satisfied: cycler>=0.10 in /usr/local/lib/python3.7/dist-packages (from matplotlib->imgaug>=0.4.0->albumentations==0.4.6) (0.11.0)\n",
            "Requirement already satisfied: python-dateutil>=2.1 in /usr/local/lib/python3.7/dist-packages (from matplotlib->imgaug>=0.4.0->albumentations==0.4.6) (2.8.2)\n",
            "Requirement already satisfied: kiwisolver>=1.0.1 in /usr/local/lib/python3.7/dist-packages (from matplotlib->imgaug>=0.4.0->albumentations==0.4.6) (1.4.2)\n",
            "Requirement already satisfied: typing-extensions in /usr/local/lib/python3.7/dist-packages (from kiwisolver>=1.0.1->matplotlib->imgaug>=0.4.0->albumentations==0.4.6) (4.2.0)\n",
            "Looking in indexes: https://pypi.org/simple, https://us-python.pkg.dev/colab-wheels/public/simple/\n",
            "Requirement already satisfied: rasterio in /usr/local/lib/python3.7/dist-packages (1.2.10)\n",
            "Requirement already satisfied: snuggs>=1.4.1 in /usr/local/lib/python3.7/dist-packages (from rasterio) (1.4.7)\n",
            "Requirement already satisfied: click-plugins in /usr/local/lib/python3.7/dist-packages (from rasterio) (1.1.1)\n",
            "Requirement already satisfied: numpy in /usr/local/lib/python3.7/dist-packages (from rasterio) (1.21.6)\n",
            "Requirement already satisfied: attrs in /usr/local/lib/python3.7/dist-packages (from rasterio) (21.4.0)\n",
            "Requirement already satisfied: click>=4.0 in /usr/local/lib/python3.7/dist-packages (from rasterio) (7.1.2)\n",
            "Requirement already satisfied: certifi in /usr/local/lib/python3.7/dist-packages (from rasterio) (2022.5.18.1)\n",
            "Requirement already satisfied: affine in /usr/local/lib/python3.7/dist-packages (from rasterio) (2.3.1)\n",
            "Requirement already satisfied: setuptools in /usr/local/lib/python3.7/dist-packages (from rasterio) (57.4.0)\n",
            "Requirement already satisfied: cligj>=0.5 in /usr/local/lib/python3.7/dist-packages (from rasterio) (0.7.2)\n",
            "Requirement already satisfied: pyparsing>=2.1.6 in /usr/local/lib/python3.7/dist-packages (from snuggs>=1.4.1->rasterio) (3.0.9)\n",
            "Looking in indexes: https://pypi.org/simple, https://us-python.pkg.dev/colab-wheels/public/simple/\n",
            "Requirement already satisfied: colorama in /usr/local/lib/python3.7/dist-packages (0.4.4)\n"
          ]
        }
      ],
      "source": [
        "import numpy as np\n",
        "import pandas as pd\n",
        "pd.options.plotting.backend = \"plotly\"\n",
        "import random\n",
        "from glob import glob\n",
        "import seaborn as sns\n",
        "import os, shutil\n",
        "from tqdm import tqdm\n",
        "tqdm.pandas()\n",
        "import time\n",
        "import copy\n",
        "import joblib\n",
        "from collections import defaultdict\n",
        "import gc\n",
        "from IPython import display as ipd\n",
        "\n",
        "# visualization\n",
        "import cv2\n",
        "import matplotlib.pyplot as plt\n",
        "from matplotlib.patches import Rectangle\n",
        "\n",
        "# Sklearn\n",
        "from sklearn.model_selection import StratifiedKFold, KFold, StratifiedGroupKFold\n",
        "\n",
        "# PyTorch \n",
        "import torch\n",
        "import torch.nn as nn\n",
        "import torch.nn.functional as F\n",
        "import torch.optim as optim\n",
        "from torch.optim import lr_scheduler\n",
        "from torch.utils.data import Dataset, DataLoader\n",
        "from torch.cuda import amp\n",
        "import segmentation_models_pytorch as smp\n",
        "import timm\n",
        "\n",
        "# Albumentations for augmentations\n",
        "!pip install albumentations==0.4.6\n",
        "import albumentations as A\n",
        "from albumentations.pytorch import ToTensorV2\n",
        "\n",
        "!pip install rasterio\n",
        "import rasterio\n",
        "from joblib import Parallel, delayed\n",
        "\n",
        "!pip install colorama\n",
        "# For colored terminal text\n",
        "from colorama import Fore, Back, Style\n",
        "c_  = Fore.GREEN\n",
        "sr_ = Style.RESET_ALL\n",
        "\n",
        "import warnings\n",
        "warnings.filterwarnings(\"ignore\")\n",
        "\n",
        "# For descriptive error messages\n",
        "os.environ['CUDA_LAUNCH_BLOCKING'] = \"1\""
      ]
    },
    {
      "cell_type": "markdown",
      "id": "89557f01",
      "metadata": {
        "papermill": {
          "duration": 0.04011,
          "end_time": "2022-05-03T10:26:17.078646",
          "exception": false,
          "start_time": "2022-05-03T10:26:17.038536",
          "status": "completed"
        },
        "tags": [],
        "id": "89557f01"
      },
      "source": [
        "# CFG "
      ]
    },
    {
      "cell_type": "code",
      "execution_count": 26,
      "id": "34a67d5f",
      "metadata": {
        "execution": {
          "iopub.execute_input": "2022-05-03T10:26:17.160728Z",
          "iopub.status.busy": "2022-05-03T10:26:17.160299Z",
          "iopub.status.idle": "2022-05-03T10:26:17.225665Z",
          "shell.execute_reply": "2022-05-03T10:26:17.224283Z"
        },
        "papermill": {
          "duration": 0.109421,
          "end_time": "2022-05-03T10:26:17.228525",
          "exception": false,
          "start_time": "2022-05-03T10:26:17.119104",
          "status": "completed"
        },
        "tags": [],
        "id": "34a67d5f"
      },
      "outputs": [],
      "source": [
        "class CFG:\n",
        "    seed          = 42\n",
        "    debug         = False \n",
        "    model_name    = 'Unet'\n",
        "    train_bs      = 32\n",
        "    valid_bs      = train_bs*2\n",
        "    img_size      = (224, 224)\n",
        "    epochs        = 20\n",
        "    lr            = 2e-3\n",
        "    scheduler     = 'CosineAnnealingLR'\n",
        "    min_lr        = 1e-6\n",
        "    T_max         = int(30000/train_bs*epochs)+50\n",
        "    T_0           = 25\n",
        "    warmup_epochs = 0\n",
        "    wd            = 1e-6\n",
        "    n_accumulate  = max(1, 32//train_bs)\n",
        "    n_fold        = 5\n",
        "    fold_selected = 1\n",
        "    num_classes   = 3\n",
        "    device        = torch.device(\"cuda:0\" if torch.cuda.is_available() else \"cpu\")\n"
      ]
    },
    {
      "cell_type": "code",
      "execution_count": 27,
      "id": "a58764bd",
      "metadata": {
        "execution": {
          "iopub.execute_input": "2022-05-03T10:26:17.375948Z",
          "iopub.status.busy": "2022-05-03T10:26:17.375615Z",
          "iopub.status.idle": "2022-05-03T10:26:17.390341Z",
          "shell.execute_reply": "2022-05-03T10:26:17.389569Z"
        },
        "papermill": {
          "duration": 0.086297,
          "end_time": "2022-05-03T10:26:17.394139",
          "exception": false,
          "start_time": "2022-05-03T10:26:17.307842",
          "status": "completed"
        },
        "tags": [],
        "colab": {
          "base_uri": "https://localhost:8080/"
        },
        "id": "a58764bd",
        "outputId": "cb723716-23d0-4ee4-c551-6059fc55c32c"
      },
      "outputs": [
        {
          "output_type": "stream",
          "name": "stdout",
          "text": [
            "> SEEDING DONE\n"
          ]
        }
      ],
      "source": [
        "def set_seed(seed = 42):\n",
        "    '''Sets the seed of the entire notebook so results are the same every time we run.\n",
        "    This is for REPRODUCIBILITY.'''\n",
        "    np.random.seed(seed)\n",
        "    random.seed(seed)\n",
        "    torch.manual_seed(seed)\n",
        "    torch.cuda.manual_seed(seed)\n",
        "    # When running on the CuDNN backend, two further options must be set\n",
        "    torch.backends.cudnn.deterministic = True\n",
        "    torch.backends.cudnn.benchmark = False\n",
        "    # Set a fixed value for the hash seed\n",
        "    os.environ['PYTHONHASHSEED'] = str(seed)\n",
        "    print('> SEEDING DONE')\n",
        "    \n",
        "set_seed(CFG.seed)"
      ]
    },
    {
      "cell_type": "code",
      "source": [
        "!mkdir ~/.kaggle\n",
        "!touch ~/.kaggle/kaggle.json\n",
        "\n",
        "api_token = {\"username\":\"username\",\"key\":\"key\"}\n",
        "\n",
        "import json\n",
        "\n",
        "with open('/root/.kaggle/kaggle.json', 'w') as file:\n",
        "    json.dump(api_token, file)\n",
        "\n",
        "!chmod 600 ~/.kaggle/kaggle.json\n",
        "!kaggle competitions download -c uw-madison-gi-tract-image-segmentation\n",
        "!unzip uw-madison-gi-tract-image-segmentation.zip"
      ],
      "metadata": {
        "colab": {
          "base_uri": "https://localhost:8080/"
        },
        "id": "hUqlEQXNoEWo",
        "outputId": "659eb9fd-6591-4449-edd8-82779f1bd819"
      },
      "id": "hUqlEQXNoEWo",
      "execution_count": 28,
      "outputs": [
        {
          "output_type": "stream",
          "name": "stdout",
          "text": [
            "mkdir: cannot create directory ‘/root/.kaggle’: File exists\n",
            "uw-madison-gi-tract-image-segmentation.zip: Skipping, found more recently modified local copy (use --force to force download)\n",
            "Archive:  uw-madison-gi-tract-image-segmentation.zip\n",
            "replace sample_submission.csv? [y]es, [n]o, [A]ll, [N]one, [r]ename: "
          ]
        }
      ]
    },
    {
      "cell_type": "code",
      "execution_count": 29,
      "id": "8279c953",
      "metadata": {
        "execution": {
          "iopub.execute_input": "2022-05-03T10:26:17.540138Z",
          "iopub.status.busy": "2022-05-03T10:26:17.539857Z",
          "iopub.status.idle": "2022-05-03T10:26:18.081367Z",
          "shell.execute_reply": "2022-05-03T10:26:18.080554Z"
        },
        "papermill": {
          "duration": 0.612474,
          "end_time": "2022-05-03T10:26:18.083194",
          "exception": false,
          "start_time": "2022-05-03T10:26:17.470720",
          "status": "completed"
        },
        "tags": [],
        "colab": {
          "base_uri": "https://localhost:8080/"
        },
        "id": "8279c953",
        "outputId": "72368942-4a7f-400f-d72b-98927c296e58"
      },
      "outputs": [
        {
          "output_type": "stream",
          "name": "stdout",
          "text": [
            "(115488, 3)\n"
          ]
        }
      ],
      "source": [
        "df = pd.read_csv('train.csv')\n",
        "print(df.shape)"
      ]
    },
    {
      "cell_type": "code",
      "execution_count": 30,
      "id": "86ca79c9",
      "metadata": {
        "execution": {
          "iopub.execute_input": "2022-05-03T10:26:18.167296Z",
          "iopub.status.busy": "2022-05-03T10:26:18.167084Z",
          "iopub.status.idle": "2022-05-03T10:26:27.410623Z",
          "shell.execute_reply": "2022-05-03T10:26:27.409946Z"
        },
        "papermill": {
          "duration": 9.2874,
          "end_time": "2022-05-03T10:26:27.412706",
          "exception": false,
          "start_time": "2022-05-03T10:26:18.125306",
          "status": "completed"
        },
        "tags": [],
        "colab": {
          "base_uri": "https://localhost:8080/",
          "height": 270
        },
        "id": "86ca79c9",
        "outputId": "c0e1605f-0107-479f-89ed-7864deb3c45c"
      },
      "outputs": [
        {
          "output_type": "execute_result",
          "data": {
            "text/plain": [
              "                         id   class_name segmentation  case  day slice  \\\n",
              "0  case123_day20_slice_0001  large_bowel          NaN   123   20  0001   \n",
              "1  case123_day20_slice_0001  small_bowel          NaN   123   20  0001   \n",
              "2  case123_day20_slice_0001      stomach          NaN   123   20  0001   \n",
              "3  case123_day20_slice_0002  large_bowel          NaN   123   20  0002   \n",
              "4  case123_day20_slice_0002  small_bowel          NaN   123   20  0002   \n",
              "\n",
              "                                                path  width  height  \n",
              "0  train/case123/case123_day20/scans/slice_0001_2...    266     266  \n",
              "1  train/case123/case123_day20/scans/slice_0001_2...    266     266  \n",
              "2  train/case123/case123_day20/scans/slice_0001_2...    266     266  \n",
              "3  train/case123/case123_day20/scans/slice_0002_2...    266     266  \n",
              "4  train/case123/case123_day20/scans/slice_0002_2...    266     266  "
            ],
            "text/html": [
              "\n",
              "  <div id=\"df-33603ce7-212c-4882-b781-579adf5ac4ca\">\n",
              "    <div class=\"colab-df-container\">\n",
              "      <div>\n",
              "<style scoped>\n",
              "    .dataframe tbody tr th:only-of-type {\n",
              "        vertical-align: middle;\n",
              "    }\n",
              "\n",
              "    .dataframe tbody tr th {\n",
              "        vertical-align: top;\n",
              "    }\n",
              "\n",
              "    .dataframe thead th {\n",
              "        text-align: right;\n",
              "    }\n",
              "</style>\n",
              "<table border=\"1\" class=\"dataframe\">\n",
              "  <thead>\n",
              "    <tr style=\"text-align: right;\">\n",
              "      <th></th>\n",
              "      <th>id</th>\n",
              "      <th>class_name</th>\n",
              "      <th>segmentation</th>\n",
              "      <th>case</th>\n",
              "      <th>day</th>\n",
              "      <th>slice</th>\n",
              "      <th>path</th>\n",
              "      <th>width</th>\n",
              "      <th>height</th>\n",
              "    </tr>\n",
              "  </thead>\n",
              "  <tbody>\n",
              "    <tr>\n",
              "      <th>0</th>\n",
              "      <td>case123_day20_slice_0001</td>\n",
              "      <td>large_bowel</td>\n",
              "      <td>NaN</td>\n",
              "      <td>123</td>\n",
              "      <td>20</td>\n",
              "      <td>0001</td>\n",
              "      <td>train/case123/case123_day20/scans/slice_0001_2...</td>\n",
              "      <td>266</td>\n",
              "      <td>266</td>\n",
              "    </tr>\n",
              "    <tr>\n",
              "      <th>1</th>\n",
              "      <td>case123_day20_slice_0001</td>\n",
              "      <td>small_bowel</td>\n",
              "      <td>NaN</td>\n",
              "      <td>123</td>\n",
              "      <td>20</td>\n",
              "      <td>0001</td>\n",
              "      <td>train/case123/case123_day20/scans/slice_0001_2...</td>\n",
              "      <td>266</td>\n",
              "      <td>266</td>\n",
              "    </tr>\n",
              "    <tr>\n",
              "      <th>2</th>\n",
              "      <td>case123_day20_slice_0001</td>\n",
              "      <td>stomach</td>\n",
              "      <td>NaN</td>\n",
              "      <td>123</td>\n",
              "      <td>20</td>\n",
              "      <td>0001</td>\n",
              "      <td>train/case123/case123_day20/scans/slice_0001_2...</td>\n",
              "      <td>266</td>\n",
              "      <td>266</td>\n",
              "    </tr>\n",
              "    <tr>\n",
              "      <th>3</th>\n",
              "      <td>case123_day20_slice_0002</td>\n",
              "      <td>large_bowel</td>\n",
              "      <td>NaN</td>\n",
              "      <td>123</td>\n",
              "      <td>20</td>\n",
              "      <td>0002</td>\n",
              "      <td>train/case123/case123_day20/scans/slice_0002_2...</td>\n",
              "      <td>266</td>\n",
              "      <td>266</td>\n",
              "    </tr>\n",
              "    <tr>\n",
              "      <th>4</th>\n",
              "      <td>case123_day20_slice_0002</td>\n",
              "      <td>small_bowel</td>\n",
              "      <td>NaN</td>\n",
              "      <td>123</td>\n",
              "      <td>20</td>\n",
              "      <td>0002</td>\n",
              "      <td>train/case123/case123_day20/scans/slice_0002_2...</td>\n",
              "      <td>266</td>\n",
              "      <td>266</td>\n",
              "    </tr>\n",
              "  </tbody>\n",
              "</table>\n",
              "</div>\n",
              "      <button class=\"colab-df-convert\" onclick=\"convertToInteractive('df-33603ce7-212c-4882-b781-579adf5ac4ca')\"\n",
              "              title=\"Convert this dataframe to an interactive table.\"\n",
              "              style=\"display:none;\">\n",
              "        \n",
              "  <svg xmlns=\"http://www.w3.org/2000/svg\" height=\"24px\"viewBox=\"0 0 24 24\"\n",
              "       width=\"24px\">\n",
              "    <path d=\"M0 0h24v24H0V0z\" fill=\"none\"/>\n",
              "    <path d=\"M18.56 5.44l.94 2.06.94-2.06 2.06-.94-2.06-.94-.94-2.06-.94 2.06-2.06.94zm-11 1L8.5 8.5l.94-2.06 2.06-.94-2.06-.94L8.5 2.5l-.94 2.06-2.06.94zm10 10l.94 2.06.94-2.06 2.06-.94-2.06-.94-.94-2.06-.94 2.06-2.06.94z\"/><path d=\"M17.41 7.96l-1.37-1.37c-.4-.4-.92-.59-1.43-.59-.52 0-1.04.2-1.43.59L10.3 9.45l-7.72 7.72c-.78.78-.78 2.05 0 2.83L4 21.41c.39.39.9.59 1.41.59.51 0 1.02-.2 1.41-.59l7.78-7.78 2.81-2.81c.8-.78.8-2.07 0-2.86zM5.41 20L4 18.59l7.72-7.72 1.47 1.35L5.41 20z\"/>\n",
              "  </svg>\n",
              "      </button>\n",
              "      \n",
              "  <style>\n",
              "    .colab-df-container {\n",
              "      display:flex;\n",
              "      flex-wrap:wrap;\n",
              "      gap: 12px;\n",
              "    }\n",
              "\n",
              "    .colab-df-convert {\n",
              "      background-color: #E8F0FE;\n",
              "      border: none;\n",
              "      border-radius: 50%;\n",
              "      cursor: pointer;\n",
              "      display: none;\n",
              "      fill: #1967D2;\n",
              "      height: 32px;\n",
              "      padding: 0 0 0 0;\n",
              "      width: 32px;\n",
              "    }\n",
              "\n",
              "    .colab-df-convert:hover {\n",
              "      background-color: #E2EBFA;\n",
              "      box-shadow: 0px 1px 2px rgba(60, 64, 67, 0.3), 0px 1px 3px 1px rgba(60, 64, 67, 0.15);\n",
              "      fill: #174EA6;\n",
              "    }\n",
              "\n",
              "    [theme=dark] .colab-df-convert {\n",
              "      background-color: #3B4455;\n",
              "      fill: #D2E3FC;\n",
              "    }\n",
              "\n",
              "    [theme=dark] .colab-df-convert:hover {\n",
              "      background-color: #434B5C;\n",
              "      box-shadow: 0px 1px 3px 1px rgba(0, 0, 0, 0.15);\n",
              "      filter: drop-shadow(0px 1px 2px rgba(0, 0, 0, 0.3));\n",
              "      fill: #FFFFFF;\n",
              "    }\n",
              "  </style>\n",
              "\n",
              "      <script>\n",
              "        const buttonEl =\n",
              "          document.querySelector('#df-33603ce7-212c-4882-b781-579adf5ac4ca button.colab-df-convert');\n",
              "        buttonEl.style.display =\n",
              "          google.colab.kernel.accessAllowed ? 'block' : 'none';\n",
              "\n",
              "        async function convertToInteractive(key) {\n",
              "          const element = document.querySelector('#df-33603ce7-212c-4882-b781-579adf5ac4ca');\n",
              "          const dataTable =\n",
              "            await google.colab.kernel.invokeFunction('convertToInteractive',\n",
              "                                                     [key], {});\n",
              "          if (!dataTable) return;\n",
              "\n",
              "          const docLinkHtml = 'Like what you see? Visit the ' +\n",
              "            '<a target=\"_blank\" href=https://colab.research.google.com/notebooks/data_table.ipynb>data table notebook</a>'\n",
              "            + ' to learn more about interactive tables.';\n",
              "          element.innerHTML = '';\n",
              "          dataTable['output_type'] = 'display_data';\n",
              "          await google.colab.output.renderOutput(dataTable, element);\n",
              "          const docLink = document.createElement('div');\n",
              "          docLink.innerHTML = docLinkHtml;\n",
              "          element.appendChild(docLink);\n",
              "        }\n",
              "      </script>\n",
              "    </div>\n",
              "  </div>\n",
              "  "
            ]
          },
          "metadata": {},
          "execution_count": 30
        }
      ],
      "source": [
        "df.rename(columns = {'class':'class_name'}, inplace = True)\n",
        "#--------------------------------------------------------------------------\n",
        "df[\"case\"] = df[\"id\"].apply(lambda x: int(x.split(\"_\")[0].replace(\"case\", \"\")))\n",
        "df[\"day\"] = df[\"id\"].apply(lambda x: int(x.split(\"_\")[1].replace(\"day\", \"\")))\n",
        "df[\"slice\"] = df[\"id\"].apply(lambda x: x.split(\"_\")[3])\n",
        "#--------------------------------------------------------------------------\n",
        "TRAIN_DIR=\"train\"\n",
        "all_train_images = glob(os.path.join(TRAIN_DIR, \"**\", \"*.png\"), recursive=True)\n",
        "x = all_train_images[0].rsplit(\"/\", 4)[0] ## train\n",
        "\n",
        "path_partial_list = []\n",
        "for i in range(0, df.shape[0]):\n",
        "    path_partial_list.append(os.path.join(x,\n",
        "                          \"case\"+str(df[\"case\"].values[i]),\n",
        "                          \"case\"+str(df[\"case\"].values[i])+\"_\"+ \"day\"+str(df[\"day\"].values[i]),\n",
        "                          \"scans\",\n",
        "                          \"slice_\"+str(df[\"slice\"].values[i])))\n",
        "df[\"path_partial\"] = path_partial_list\n",
        "#--------------------------------------------------------------------------\n",
        "path_partial_list = []\n",
        "for i in range(0, len(all_train_images)):\n",
        "    path_partial_list.append(str(all_train_images[i].rsplit(\"_\",4)[0]))\n",
        "    \n",
        "tmp_df = pd.DataFrame()\n",
        "tmp_df['path_partial'] = path_partial_list\n",
        "tmp_df['path'] = all_train_images\n",
        "\n",
        "#--------------------------------------------------------------------------\n",
        "df = df.merge(tmp_df, on=\"path_partial\").drop(columns=[\"path_partial\"])\n",
        "#--------------------------------------------------------------------------\n",
        "df[\"width\"] = df[\"path\"].apply(lambda x: int(x[:-4].rsplit(\"_\",4)[1]))\n",
        "df[\"height\"] = df[\"path\"].apply(lambda x: int(x[:-4].rsplit(\"_\",4)[2]))\n",
        "#--------------------------------------------------------------------------\n",
        "del x,path_partial_list,tmp_df\n",
        "#--------------------------------------------------------------------------\n",
        "df.head(5)\n"
      ]
    },
    {
      "cell_type": "code",
      "execution_count": 31,
      "id": "02211da5",
      "metadata": {
        "execution": {
          "iopub.execute_input": "2022-05-03T10:26:27.499020Z",
          "iopub.status.busy": "2022-05-03T10:26:27.498806Z",
          "iopub.status.idle": "2022-05-03T10:26:27.573881Z",
          "shell.execute_reply": "2022-05-03T10:26:27.573190Z"
        },
        "papermill": {
          "duration": 0.119385,
          "end_time": "2022-05-03T10:26:27.575615",
          "exception": false,
          "start_time": "2022-05-03T10:26:27.456230",
          "status": "completed"
        },
        "tags": [],
        "colab": {
          "base_uri": "https://localhost:8080/",
          "height": 548
        },
        "id": "02211da5",
        "outputId": "9a69cc95-4b93-4e1f-b4fd-a9b013cbb3ba"
      },
      "outputs": [
        {
          "output_type": "execute_result",
          "data": {
            "text/plain": [
              "                             id  \\\n",
              "28659   case36_day14_slice_0036   \n",
              "621      case77_day0_slice_0046   \n",
              "13728   case19_day18_slice_0081   \n",
              "24702  case108_day13_slice_0143   \n",
              "34099   case47_day27_slice_0068   \n",
              "\n",
              "                                             large_bowel  \\\n",
              "28659                                                      \n",
              "621                                                        \n",
              "13728  17824 3 18182 7 18540 11 18899 20 19258 24 196...   \n",
              "24702                                                      \n",
              "34099  33239 6 33597 10 33956 11 34314 14 34673 15 35...   \n",
              "\n",
              "                                             small_bowel  \\\n",
              "28659                                                      \n",
              "621                                                        \n",
              "13728  30039 2 30397 7 30756 11 31116 15 31475 25 318...   \n",
              "24702                                                      \n",
              "34099  26816 6 27175 8 27534 11 27893 13 28252 16 286...   \n",
              "\n",
              "                                                 stomach  \\\n",
              "28659  27047 6 27312 8 27578 8 27844 8 28109 9 28375 ...   \n",
              "621                                                        \n",
              "13728                                                      \n",
              "24702                                                      \n",
              "34099                                                      \n",
              "\n",
              "                                                    path  case  day slice  \\\n",
              "28659  train/case36/case36_day14/scans/slice_0036_266...    36   14  0036   \n",
              "621    train/case77/case77_day0/scans/slice_0046_266_...    77    0  0046   \n",
              "13728  train/case19/case19_day18/scans/slice_0081_360...    19   18  0081   \n",
              "24702  train/case108/case108_day13/scans/slice_0143_2...   108   13  0143   \n",
              "34099  train/case47/case47_day27/scans/slice_0068_360...    47   27  0068   \n",
              "\n",
              "       width  height  count  \n",
              "28659    266     266      1  \n",
              "621      266     266      0  \n",
              "13728    360     310      2  \n",
              "24702    266     266      0  \n",
              "34099    360     310      2  "
            ],
            "text/html": [
              "\n",
              "  <div id=\"df-31b0ccfc-02b4-4ce4-8715-4cdac0a60aaf\">\n",
              "    <div class=\"colab-df-container\">\n",
              "      <div>\n",
              "<style scoped>\n",
              "    .dataframe tbody tr th:only-of-type {\n",
              "        vertical-align: middle;\n",
              "    }\n",
              "\n",
              "    .dataframe tbody tr th {\n",
              "        vertical-align: top;\n",
              "    }\n",
              "\n",
              "    .dataframe thead th {\n",
              "        text-align: right;\n",
              "    }\n",
              "</style>\n",
              "<table border=\"1\" class=\"dataframe\">\n",
              "  <thead>\n",
              "    <tr style=\"text-align: right;\">\n",
              "      <th></th>\n",
              "      <th>id</th>\n",
              "      <th>large_bowel</th>\n",
              "      <th>small_bowel</th>\n",
              "      <th>stomach</th>\n",
              "      <th>path</th>\n",
              "      <th>case</th>\n",
              "      <th>day</th>\n",
              "      <th>slice</th>\n",
              "      <th>width</th>\n",
              "      <th>height</th>\n",
              "      <th>count</th>\n",
              "    </tr>\n",
              "  </thead>\n",
              "  <tbody>\n",
              "    <tr>\n",
              "      <th>28659</th>\n",
              "      <td>case36_day14_slice_0036</td>\n",
              "      <td></td>\n",
              "      <td></td>\n",
              "      <td>27047 6 27312 8 27578 8 27844 8 28109 9 28375 ...</td>\n",
              "      <td>train/case36/case36_day14/scans/slice_0036_266...</td>\n",
              "      <td>36</td>\n",
              "      <td>14</td>\n",
              "      <td>0036</td>\n",
              "      <td>266</td>\n",
              "      <td>266</td>\n",
              "      <td>1</td>\n",
              "    </tr>\n",
              "    <tr>\n",
              "      <th>621</th>\n",
              "      <td>case77_day0_slice_0046</td>\n",
              "      <td></td>\n",
              "      <td></td>\n",
              "      <td></td>\n",
              "      <td>train/case77/case77_day0/scans/slice_0046_266_...</td>\n",
              "      <td>77</td>\n",
              "      <td>0</td>\n",
              "      <td>0046</td>\n",
              "      <td>266</td>\n",
              "      <td>266</td>\n",
              "      <td>0</td>\n",
              "    </tr>\n",
              "    <tr>\n",
              "      <th>13728</th>\n",
              "      <td>case19_day18_slice_0081</td>\n",
              "      <td>17824 3 18182 7 18540 11 18899 20 19258 24 196...</td>\n",
              "      <td>30039 2 30397 7 30756 11 31116 15 31475 25 318...</td>\n",
              "      <td></td>\n",
              "      <td>train/case19/case19_day18/scans/slice_0081_360...</td>\n",
              "      <td>19</td>\n",
              "      <td>18</td>\n",
              "      <td>0081</td>\n",
              "      <td>360</td>\n",
              "      <td>310</td>\n",
              "      <td>2</td>\n",
              "    </tr>\n",
              "    <tr>\n",
              "      <th>24702</th>\n",
              "      <td>case108_day13_slice_0143</td>\n",
              "      <td></td>\n",
              "      <td></td>\n",
              "      <td></td>\n",
              "      <td>train/case108/case108_day13/scans/slice_0143_2...</td>\n",
              "      <td>108</td>\n",
              "      <td>13</td>\n",
              "      <td>0143</td>\n",
              "      <td>266</td>\n",
              "      <td>266</td>\n",
              "      <td>0</td>\n",
              "    </tr>\n",
              "    <tr>\n",
              "      <th>34099</th>\n",
              "      <td>case47_day27_slice_0068</td>\n",
              "      <td>33239 6 33597 10 33956 11 34314 14 34673 15 35...</td>\n",
              "      <td>26816 6 27175 8 27534 11 27893 13 28252 16 286...</td>\n",
              "      <td></td>\n",
              "      <td>train/case47/case47_day27/scans/slice_0068_360...</td>\n",
              "      <td>47</td>\n",
              "      <td>27</td>\n",
              "      <td>0068</td>\n",
              "      <td>360</td>\n",
              "      <td>310</td>\n",
              "      <td>2</td>\n",
              "    </tr>\n",
              "  </tbody>\n",
              "</table>\n",
              "</div>\n",
              "      <button class=\"colab-df-convert\" onclick=\"convertToInteractive('df-31b0ccfc-02b4-4ce4-8715-4cdac0a60aaf')\"\n",
              "              title=\"Convert this dataframe to an interactive table.\"\n",
              "              style=\"display:none;\">\n",
              "        \n",
              "  <svg xmlns=\"http://www.w3.org/2000/svg\" height=\"24px\"viewBox=\"0 0 24 24\"\n",
              "       width=\"24px\">\n",
              "    <path d=\"M0 0h24v24H0V0z\" fill=\"none\"/>\n",
              "    <path d=\"M18.56 5.44l.94 2.06.94-2.06 2.06-.94-2.06-.94-.94-2.06-.94 2.06-2.06.94zm-11 1L8.5 8.5l.94-2.06 2.06-.94-2.06-.94L8.5 2.5l-.94 2.06-2.06.94zm10 10l.94 2.06.94-2.06 2.06-.94-2.06-.94-.94-2.06-.94 2.06-2.06.94z\"/><path d=\"M17.41 7.96l-1.37-1.37c-.4-.4-.92-.59-1.43-.59-.52 0-1.04.2-1.43.59L10.3 9.45l-7.72 7.72c-.78.78-.78 2.05 0 2.83L4 21.41c.39.39.9.59 1.41.59.51 0 1.02-.2 1.41-.59l7.78-7.78 2.81-2.81c.8-.78.8-2.07 0-2.86zM5.41 20L4 18.59l7.72-7.72 1.47 1.35L5.41 20z\"/>\n",
              "  </svg>\n",
              "      </button>\n",
              "      \n",
              "  <style>\n",
              "    .colab-df-container {\n",
              "      display:flex;\n",
              "      flex-wrap:wrap;\n",
              "      gap: 12px;\n",
              "    }\n",
              "\n",
              "    .colab-df-convert {\n",
              "      background-color: #E8F0FE;\n",
              "      border: none;\n",
              "      border-radius: 50%;\n",
              "      cursor: pointer;\n",
              "      display: none;\n",
              "      fill: #1967D2;\n",
              "      height: 32px;\n",
              "      padding: 0 0 0 0;\n",
              "      width: 32px;\n",
              "    }\n",
              "\n",
              "    .colab-df-convert:hover {\n",
              "      background-color: #E2EBFA;\n",
              "      box-shadow: 0px 1px 2px rgba(60, 64, 67, 0.3), 0px 1px 3px 1px rgba(60, 64, 67, 0.15);\n",
              "      fill: #174EA6;\n",
              "    }\n",
              "\n",
              "    [theme=dark] .colab-df-convert {\n",
              "      background-color: #3B4455;\n",
              "      fill: #D2E3FC;\n",
              "    }\n",
              "\n",
              "    [theme=dark] .colab-df-convert:hover {\n",
              "      background-color: #434B5C;\n",
              "      box-shadow: 0px 1px 3px 1px rgba(0, 0, 0, 0.15);\n",
              "      filter: drop-shadow(0px 1px 2px rgba(0, 0, 0, 0.3));\n",
              "      fill: #FFFFFF;\n",
              "    }\n",
              "  </style>\n",
              "\n",
              "      <script>\n",
              "        const buttonEl =\n",
              "          document.querySelector('#df-31b0ccfc-02b4-4ce4-8715-4cdac0a60aaf button.colab-df-convert');\n",
              "        buttonEl.style.display =\n",
              "          google.colab.kernel.accessAllowed ? 'block' : 'none';\n",
              "\n",
              "        async function convertToInteractive(key) {\n",
              "          const element = document.querySelector('#df-31b0ccfc-02b4-4ce4-8715-4cdac0a60aaf');\n",
              "          const dataTable =\n",
              "            await google.colab.kernel.invokeFunction('convertToInteractive',\n",
              "                                                     [key], {});\n",
              "          if (!dataTable) return;\n",
              "\n",
              "          const docLinkHtml = 'Like what you see? Visit the ' +\n",
              "            '<a target=\"_blank\" href=https://colab.research.google.com/notebooks/data_table.ipynb>data table notebook</a>'\n",
              "            + ' to learn more about interactive tables.';\n",
              "          element.innerHTML = '';\n",
              "          dataTable['output_type'] = 'display_data';\n",
              "          await google.colab.output.renderOutput(dataTable, element);\n",
              "          const docLink = document.createElement('div');\n",
              "          docLink.innerHTML = docLinkHtml;\n",
              "          element.appendChild(docLink);\n",
              "        }\n",
              "      </script>\n",
              "    </div>\n",
              "  </div>\n",
              "  "
            ]
          },
          "metadata": {},
          "execution_count": 31
        }
      ],
      "source": [
        "# RESTRUCTURE  DATAFRAME\n",
        "df_train = pd.DataFrame({'id':df['id'][::3]})\n",
        "\n",
        "df_train['large_bowel'] = df['segmentation'][::3].values\n",
        "df_train['small_bowel'] = df['segmentation'][1::3].values\n",
        "df_train['stomach'] = df['segmentation'][2::3].values\n",
        "\n",
        "df_train['path'] = df['path'][::3].values\n",
        "df_train['case'] = df['case'][::3].values\n",
        "df_train['day'] = df['day'][::3].values\n",
        "df_train['slice'] = df['slice'][::3].values\n",
        "df_train['width'] = df['width'][::3].values\n",
        "df_train['height'] = df['height'][::3].values\n",
        "\n",
        "\n",
        "df_train.reset_index(inplace=True,drop=True)\n",
        "df_train.fillna('',inplace=True); \n",
        "df_train['count'] = np.sum(df_train.iloc[:,1:4]!='',axis=1).values\n",
        "df_train.sample(5)"
      ]
    },
    {
      "cell_type": "markdown",
      "id": "6cb422eb",
      "metadata": {
        "papermill": {
          "duration": 0.041731,
          "end_time": "2022-05-03T10:26:27.659518",
          "exception": false,
          "start_time": "2022-05-03T10:26:27.617787",
          "status": "completed"
        },
        "tags": [],
        "id": "6cb422eb"
      },
      "source": [
        "# EDA"
      ]
    },
    {
      "cell_type": "code",
      "execution_count": 32,
      "id": "3c72e323",
      "metadata": {
        "execution": {
          "iopub.execute_input": "2022-05-03T10:26:27.744966Z",
          "iopub.status.busy": "2022-05-03T10:26:27.744391Z",
          "iopub.status.idle": "2022-05-03T10:26:30.491480Z",
          "shell.execute_reply": "2022-05-03T10:26:30.490816Z"
        },
        "papermill": {
          "duration": 2.791796,
          "end_time": "2022-05-03T10:26:30.493201",
          "exception": false,
          "start_time": "2022-05-03T10:26:27.701405",
          "status": "completed"
        },
        "tags": [],
        "colab": {
          "base_uri": "https://localhost:8080/",
          "height": 542
        },
        "id": "3c72e323",
        "outputId": "59b43bf8-51ff-44ab-df58-7f74a78534b1"
      },
      "outputs": [
        {
          "output_type": "display_data",
          "data": {
            "text/html": [
              "<html>\n",
              "<head><meta charset=\"utf-8\" /></head>\n",
              "<body>\n",
              "    <div>            <script src=\"https://cdnjs.cloudflare.com/ajax/libs/mathjax/2.7.5/MathJax.js?config=TeX-AMS-MML_SVG\"></script><script type=\"text/javascript\">if (window.MathJax) {MathJax.Hub.Config({SVG: {font: \"STIX-Web\"}});}</script>                <script type=\"text/javascript\">window.PlotlyConfig = {MathJaxConfig: 'local'};</script>\n",
              "        <script src=\"https://cdn.plot.ly/plotly-2.8.3.min.js\"></script>                <div id=\"bcc70f19-685b-474b-9938-a1eef5ad1dba\" class=\"plotly-graph-div\" style=\"height:525px; width:100%;\"></div>            <script type=\"text/javascript\">                                    window.PLOTLYENV=window.PLOTLYENV || {};                                    if (document.getElementById(\"bcc70f19-685b-474b-9938-a1eef5ad1dba\")) {                    Plotly.newPlot(                        \"bcc70f19-685b-474b-9938-a1eef5ad1dba\",                        [{\"alignmentgroup\":\"True\",\"hovertemplate\":\"variable=count<br>index=%{x}<br>value=%{y}<extra></extra>\",\"legendgroup\":\"count\",\"marker\":{\"color\":\"#636efa\",\"pattern\":{\"shape\":\"\"}},\"name\":\"count\",\"offsetgroup\":\"count\",\"orientation\":\"v\",\"showlegend\":true,\"textposition\":\"auto\",\"x\":[0,2,3,1],\"xaxis\":\"x\",\"y\":[21906,10921,3201,2468],\"yaxis\":\"y\",\"type\":\"bar\"}],                        {\"template\":{\"data\":{\"bar\":[{\"error_x\":{\"color\":\"#2a3f5f\"},\"error_y\":{\"color\":\"#2a3f5f\"},\"marker\":{\"line\":{\"color\":\"#E5ECF6\",\"width\":0.5},\"pattern\":{\"fillmode\":\"overlay\",\"size\":10,\"solidity\":0.2}},\"type\":\"bar\"}],\"barpolar\":[{\"marker\":{\"line\":{\"color\":\"#E5ECF6\",\"width\":0.5},\"pattern\":{\"fillmode\":\"overlay\",\"size\":10,\"solidity\":0.2}},\"type\":\"barpolar\"}],\"carpet\":[{\"aaxis\":{\"endlinecolor\":\"#2a3f5f\",\"gridcolor\":\"white\",\"linecolor\":\"white\",\"minorgridcolor\":\"white\",\"startlinecolor\":\"#2a3f5f\"},\"baxis\":{\"endlinecolor\":\"#2a3f5f\",\"gridcolor\":\"white\",\"linecolor\":\"white\",\"minorgridcolor\":\"white\",\"startlinecolor\":\"#2a3f5f\"},\"type\":\"carpet\"}],\"choropleth\":[{\"colorbar\":{\"outlinewidth\":0,\"ticks\":\"\"},\"type\":\"choropleth\"}],\"contour\":[{\"colorbar\":{\"outlinewidth\":0,\"ticks\":\"\"},\"colorscale\":[[0.0,\"#0d0887\"],[0.1111111111111111,\"#46039f\"],[0.2222222222222222,\"#7201a8\"],[0.3333333333333333,\"#9c179e\"],[0.4444444444444444,\"#bd3786\"],[0.5555555555555556,\"#d8576b\"],[0.6666666666666666,\"#ed7953\"],[0.7777777777777778,\"#fb9f3a\"],[0.8888888888888888,\"#fdca26\"],[1.0,\"#f0f921\"]],\"type\":\"contour\"}],\"contourcarpet\":[{\"colorbar\":{\"outlinewidth\":0,\"ticks\":\"\"},\"type\":\"contourcarpet\"}],\"heatmap\":[{\"colorbar\":{\"outlinewidth\":0,\"ticks\":\"\"},\"colorscale\":[[0.0,\"#0d0887\"],[0.1111111111111111,\"#46039f\"],[0.2222222222222222,\"#7201a8\"],[0.3333333333333333,\"#9c179e\"],[0.4444444444444444,\"#bd3786\"],[0.5555555555555556,\"#d8576b\"],[0.6666666666666666,\"#ed7953\"],[0.7777777777777778,\"#fb9f3a\"],[0.8888888888888888,\"#fdca26\"],[1.0,\"#f0f921\"]],\"type\":\"heatmap\"}],\"heatmapgl\":[{\"colorbar\":{\"outlinewidth\":0,\"ticks\":\"\"},\"colorscale\":[[0.0,\"#0d0887\"],[0.1111111111111111,\"#46039f\"],[0.2222222222222222,\"#7201a8\"],[0.3333333333333333,\"#9c179e\"],[0.4444444444444444,\"#bd3786\"],[0.5555555555555556,\"#d8576b\"],[0.6666666666666666,\"#ed7953\"],[0.7777777777777778,\"#fb9f3a\"],[0.8888888888888888,\"#fdca26\"],[1.0,\"#f0f921\"]],\"type\":\"heatmapgl\"}],\"histogram\":[{\"marker\":{\"pattern\":{\"fillmode\":\"overlay\",\"size\":10,\"solidity\":0.2}},\"type\":\"histogram\"}],\"histogram2d\":[{\"colorbar\":{\"outlinewidth\":0,\"ticks\":\"\"},\"colorscale\":[[0.0,\"#0d0887\"],[0.1111111111111111,\"#46039f\"],[0.2222222222222222,\"#7201a8\"],[0.3333333333333333,\"#9c179e\"],[0.4444444444444444,\"#bd3786\"],[0.5555555555555556,\"#d8576b\"],[0.6666666666666666,\"#ed7953\"],[0.7777777777777778,\"#fb9f3a\"],[0.8888888888888888,\"#fdca26\"],[1.0,\"#f0f921\"]],\"type\":\"histogram2d\"}],\"histogram2dcontour\":[{\"colorbar\":{\"outlinewidth\":0,\"ticks\":\"\"},\"colorscale\":[[0.0,\"#0d0887\"],[0.1111111111111111,\"#46039f\"],[0.2222222222222222,\"#7201a8\"],[0.3333333333333333,\"#9c179e\"],[0.4444444444444444,\"#bd3786\"],[0.5555555555555556,\"#d8576b\"],[0.6666666666666666,\"#ed7953\"],[0.7777777777777778,\"#fb9f3a\"],[0.8888888888888888,\"#fdca26\"],[1.0,\"#f0f921\"]],\"type\":\"histogram2dcontour\"}],\"mesh3d\":[{\"colorbar\":{\"outlinewidth\":0,\"ticks\":\"\"},\"type\":\"mesh3d\"}],\"parcoords\":[{\"line\":{\"colorbar\":{\"outlinewidth\":0,\"ticks\":\"\"}},\"type\":\"parcoords\"}],\"pie\":[{\"automargin\":true,\"type\":\"pie\"}],\"scatter\":[{\"marker\":{\"colorbar\":{\"outlinewidth\":0,\"ticks\":\"\"}},\"type\":\"scatter\"}],\"scatter3d\":[{\"line\":{\"colorbar\":{\"outlinewidth\":0,\"ticks\":\"\"}},\"marker\":{\"colorbar\":{\"outlinewidth\":0,\"ticks\":\"\"}},\"type\":\"scatter3d\"}],\"scattercarpet\":[{\"marker\":{\"colorbar\":{\"outlinewidth\":0,\"ticks\":\"\"}},\"type\":\"scattercarpet\"}],\"scattergeo\":[{\"marker\":{\"colorbar\":{\"outlinewidth\":0,\"ticks\":\"\"}},\"type\":\"scattergeo\"}],\"scattergl\":[{\"marker\":{\"colorbar\":{\"outlinewidth\":0,\"ticks\":\"\"}},\"type\":\"scattergl\"}],\"scattermapbox\":[{\"marker\":{\"colorbar\":{\"outlinewidth\":0,\"ticks\":\"\"}},\"type\":\"scattermapbox\"}],\"scatterpolar\":[{\"marker\":{\"colorbar\":{\"outlinewidth\":0,\"ticks\":\"\"}},\"type\":\"scatterpolar\"}],\"scatterpolargl\":[{\"marker\":{\"colorbar\":{\"outlinewidth\":0,\"ticks\":\"\"}},\"type\":\"scatterpolargl\"}],\"scatterternary\":[{\"marker\":{\"colorbar\":{\"outlinewidth\":0,\"ticks\":\"\"}},\"type\":\"scatterternary\"}],\"surface\":[{\"colorbar\":{\"outlinewidth\":0,\"ticks\":\"\"},\"colorscale\":[[0.0,\"#0d0887\"],[0.1111111111111111,\"#46039f\"],[0.2222222222222222,\"#7201a8\"],[0.3333333333333333,\"#9c179e\"],[0.4444444444444444,\"#bd3786\"],[0.5555555555555556,\"#d8576b\"],[0.6666666666666666,\"#ed7953\"],[0.7777777777777778,\"#fb9f3a\"],[0.8888888888888888,\"#fdca26\"],[1.0,\"#f0f921\"]],\"type\":\"surface\"}],\"table\":[{\"cells\":{\"fill\":{\"color\":\"#EBF0F8\"},\"line\":{\"color\":\"white\"}},\"header\":{\"fill\":{\"color\":\"#C8D4E3\"},\"line\":{\"color\":\"white\"}},\"type\":\"table\"}]},\"layout\":{\"annotationdefaults\":{\"arrowcolor\":\"#2a3f5f\",\"arrowhead\":0,\"arrowwidth\":1},\"autotypenumbers\":\"strict\",\"coloraxis\":{\"colorbar\":{\"outlinewidth\":0,\"ticks\":\"\"}},\"colorscale\":{\"diverging\":[[0,\"#8e0152\"],[0.1,\"#c51b7d\"],[0.2,\"#de77ae\"],[0.3,\"#f1b6da\"],[0.4,\"#fde0ef\"],[0.5,\"#f7f7f7\"],[0.6,\"#e6f5d0\"],[0.7,\"#b8e186\"],[0.8,\"#7fbc41\"],[0.9,\"#4d9221\"],[1,\"#276419\"]],\"sequential\":[[0.0,\"#0d0887\"],[0.1111111111111111,\"#46039f\"],[0.2222222222222222,\"#7201a8\"],[0.3333333333333333,\"#9c179e\"],[0.4444444444444444,\"#bd3786\"],[0.5555555555555556,\"#d8576b\"],[0.6666666666666666,\"#ed7953\"],[0.7777777777777778,\"#fb9f3a\"],[0.8888888888888888,\"#fdca26\"],[1.0,\"#f0f921\"]],\"sequentialminus\":[[0.0,\"#0d0887\"],[0.1111111111111111,\"#46039f\"],[0.2222222222222222,\"#7201a8\"],[0.3333333333333333,\"#9c179e\"],[0.4444444444444444,\"#bd3786\"],[0.5555555555555556,\"#d8576b\"],[0.6666666666666666,\"#ed7953\"],[0.7777777777777778,\"#fb9f3a\"],[0.8888888888888888,\"#fdca26\"],[1.0,\"#f0f921\"]]},\"colorway\":[\"#636efa\",\"#EF553B\",\"#00cc96\",\"#ab63fa\",\"#FFA15A\",\"#19d3f3\",\"#FF6692\",\"#B6E880\",\"#FF97FF\",\"#FECB52\"],\"font\":{\"color\":\"#2a3f5f\"},\"geo\":{\"bgcolor\":\"white\",\"lakecolor\":\"white\",\"landcolor\":\"#E5ECF6\",\"showlakes\":true,\"showland\":true,\"subunitcolor\":\"white\"},\"hoverlabel\":{\"align\":\"left\"},\"hovermode\":\"closest\",\"mapbox\":{\"style\":\"light\"},\"paper_bgcolor\":\"white\",\"plot_bgcolor\":\"#E5ECF6\",\"polar\":{\"angularaxis\":{\"gridcolor\":\"white\",\"linecolor\":\"white\",\"ticks\":\"\"},\"bgcolor\":\"#E5ECF6\",\"radialaxis\":{\"gridcolor\":\"white\",\"linecolor\":\"white\",\"ticks\":\"\"}},\"scene\":{\"xaxis\":{\"backgroundcolor\":\"#E5ECF6\",\"gridcolor\":\"white\",\"gridwidth\":2,\"linecolor\":\"white\",\"showbackground\":true,\"ticks\":\"\",\"zerolinecolor\":\"white\"},\"yaxis\":{\"backgroundcolor\":\"#E5ECF6\",\"gridcolor\":\"white\",\"gridwidth\":2,\"linecolor\":\"white\",\"showbackground\":true,\"ticks\":\"\",\"zerolinecolor\":\"white\"},\"zaxis\":{\"backgroundcolor\":\"#E5ECF6\",\"gridcolor\":\"white\",\"gridwidth\":2,\"linecolor\":\"white\",\"showbackground\":true,\"ticks\":\"\",\"zerolinecolor\":\"white\"}},\"shapedefaults\":{\"line\":{\"color\":\"#2a3f5f\"}},\"ternary\":{\"aaxis\":{\"gridcolor\":\"white\",\"linecolor\":\"white\",\"ticks\":\"\"},\"baxis\":{\"gridcolor\":\"white\",\"linecolor\":\"white\",\"ticks\":\"\"},\"bgcolor\":\"#E5ECF6\",\"caxis\":{\"gridcolor\":\"white\",\"linecolor\":\"white\",\"ticks\":\"\"}},\"title\":{\"x\":0.05},\"xaxis\":{\"automargin\":true,\"gridcolor\":\"white\",\"linecolor\":\"white\",\"ticks\":\"\",\"title\":{\"standoff\":15},\"zerolinecolor\":\"white\",\"zerolinewidth\":2},\"yaxis\":{\"automargin\":true,\"gridcolor\":\"white\",\"linecolor\":\"white\",\"ticks\":\"\",\"title\":{\"standoff\":15},\"zerolinecolor\":\"white\",\"zerolinewidth\":2}}},\"xaxis\":{\"anchor\":\"y\",\"domain\":[0.0,1.0],\"title\":{\"text\":\"index\"}},\"yaxis\":{\"anchor\":\"x\",\"domain\":[0.0,1.0],\"title\":{\"text\":\"value\"}},\"legend\":{\"title\":{\"text\":\"variable\"},\"tracegroupgap\":0},\"margin\":{\"t\":60},\"barmode\":\"relative\"},                        {\"responsive\": true}                    ).then(function(){\n",
              "                            \n",
              "var gd = document.getElementById('bcc70f19-685b-474b-9938-a1eef5ad1dba');\n",
              "var x = new MutationObserver(function (mutations, observer) {{\n",
              "        var display = window.getComputedStyle(gd).display;\n",
              "        if (!display || display === 'none') {{\n",
              "            console.log([gd, 'removed!']);\n",
              "            Plotly.purge(gd);\n",
              "            observer.disconnect();\n",
              "        }}\n",
              "}});\n",
              "\n",
              "// Listen for the removal of the full notebook cells\n",
              "var notebookContainer = gd.closest('#notebook-container');\n",
              "if (notebookContainer) {{\n",
              "    x.observe(notebookContainer, {childList: true});\n",
              "}}\n",
              "\n",
              "// Listen for the clearing of the current output cell\n",
              "var outputEl = gd.closest('.output');\n",
              "if (outputEl) {{\n",
              "    x.observe(outputEl, {childList: true});\n",
              "}}\n",
              "\n",
              "                        })                };                            </script>        </div>\n",
              "</body>\n",
              "</html>"
            ]
          },
          "metadata": {}
        }
      ],
      "source": [
        "df_train['count'].value_counts().plot.bar()"
      ]
    },
    {
      "cell_type": "code",
      "execution_count": 33,
      "id": "8867386f",
      "metadata": {
        "execution": {
          "iopub.execute_input": "2022-05-03T10:26:30.581097Z",
          "iopub.status.busy": "2022-05-03T10:26:30.580879Z",
          "iopub.status.idle": "2022-05-03T10:26:30.790521Z",
          "shell.execute_reply": "2022-05-03T10:26:30.789857Z"
        },
        "papermill": {
          "duration": 0.256061,
          "end_time": "2022-05-03T10:26:30.792741",
          "exception": false,
          "start_time": "2022-05-03T10:26:30.536680",
          "status": "completed"
        },
        "tags": [],
        "colab": {
          "base_uri": "https://localhost:8080/",
          "height": 279
        },
        "id": "8867386f",
        "outputId": "14c79b7f-7ccc-4bac-8875-906ebeedcbf4"
      },
      "outputs": [
        {
          "output_type": "display_data",
          "data": {
            "text/plain": [
              "<Figure size 864x288 with 1 Axes>"
            ],
            "image/png": "[encoded data removed]"
          },
          "metadata": {
            "needs_background": "light"
          }
        }
      ],
      "source": [
        "plt.figure(figsize=(12,4))\n",
        "bar = plt.bar([1,2,3],100*np.mean( df_train.iloc[:,1:4]!='',axis=0))\n",
        "plt.title('Percent Training Images with Mask', fontsize=16)\n",
        "plt.ylabel('Percent of Images'); plt.xlabel('Class Type')\n",
        "plt.xticks([1,2,3])\n",
        "labels=[\"large bowel\",\"small bowel\",\"stomach\"]\n",
        "for rect,lbl in zip(bar,labels):\n",
        "    height = rect.get_height()\n",
        "    plt.text(rect.get_x() + rect.get_width()/3, height,  lbl,\n",
        "             ha='center', va='bottom',fontsize=16)\n",
        "    plt.text(rect.get_x() + rect.get_width()/1.3, height, '%.1f %%' % height,\n",
        "             ha='center', va='bottom',fontsize=13)\n",
        "\n",
        "plt.ylim((0,50)); plt.show()"
      ]
    },
    {
      "cell_type": "markdown",
      "id": "da6624e2",
      "metadata": {
        "papermill": {
          "duration": 0.043305,
          "end_time": "2022-05-03T10:26:30.880411",
          "exception": false,
          "start_time": "2022-05-03T10:26:30.837106",
          "status": "completed"
        },
        "tags": [],
        "id": "da6624e2"
      },
      "source": [
        "# RLE"
      ]
    },
    {
      "cell_type": "code",
      "execution_count": 34,
      "id": "5113b85e",
      "metadata": {
        "execution": {
          "iopub.execute_input": "2022-05-03T10:26:30.968733Z",
          "iopub.status.busy": "2022-05-03T10:26:30.968509Z",
          "iopub.status.idle": "2022-05-03T10:26:30.979508Z",
          "shell.execute_reply": "2022-05-03T10:26:30.978826Z"
        },
        "papermill": {
          "duration": 0.057164,
          "end_time": "2022-05-03T10:26:30.981268",
          "exception": false,
          "start_time": "2022-05-03T10:26:30.924104",
          "status": "completed"
        },
        "tags": [],
        "id": "5113b85e"
      },
      "outputs": [],
      "source": [
        "# ref: https://www.kaggle.com/paulorzp/run-length-encode-and-decode\n",
        "def rle_decode(mask_rle, shape):\n",
        "    '''\n",
        "    mask_rle: run-length as string formated (start length)\n",
        "    shape: (height,width) of array to return \n",
        "    Returns numpy array, 1 - mask, 0 - background\n",
        "\n",
        "    '''\n",
        "    s = mask_rle.split()\n",
        "    starts, lengths = [np.asarray(x, dtype=int) for x in (s[0:][::2], s[1:][::2])]\n",
        "    starts -= 1\n",
        "    ends = starts + lengths\n",
        "    img = np.zeros(shape[0]*shape[1], dtype=np.uint8)\n",
        "    for lo, hi in zip(starts, ends):\n",
        "        img[lo:hi] = 1\n",
        "    return img.reshape(shape)  # Needed to align to RLE direction\n",
        "\n",
        "\n",
        "# ref.: https://www.kaggle.com/stainsby/fast-tested-rle\n",
        "def rle_encode(img):\n",
        "    '''\n",
        "    img: numpy array, 1 - mask, 0 - background\n",
        "    Returns run length as string formated\n",
        "    '''\n",
        "    pixels = img.flatten()\n",
        "    pixels = np.concatenate([[0], pixels, [0]])\n",
        "    runs = np.where(pixels[1:] != pixels[:-1])[0] + 1\n",
        "    runs[1::2] -= runs[::2]\n",
        "    return ' '.join(str(x) for x in runs)\n",
        "\n",
        "\n",
        "def show_img(img, mask=None):\n",
        "    clahe = cv2.createCLAHE(clipLimit=2.0, tileGridSize=(8,8))\n",
        "    plt.imshow(img, cmap='bone')\n",
        "    \n",
        "    if mask is not None:\n",
        "        plt.imshow(mask, alpha=0.5)\n",
        "        handles = [Rectangle((0,0),1,1, color=_c) for _c in [(0.667,0.0,0.0), (0.0,0.667,0.0), (0.0,0.0,0.667)]]\n",
        "        labels = [\"Large Bowel\", \"Small Bowel\", \"Stomach\"]\n",
        "        plt.legend(handles,labels)\n",
        "    plt.axis('off')"
      ]
    },
    {
      "cell_type": "markdown",
      "id": "702dc0f8",
      "metadata": {
        "papermill": {
          "duration": 0.043911,
          "end_time": "2022-05-03T10:26:31.069479",
          "exception": false,
          "start_time": "2022-05-03T10:26:31.025568",
          "status": "completed"
        },
        "tags": [],
        "id": "702dc0f8"
      },
      "source": [
        "# Create Folds"
      ]
    },
    {
      "cell_type": "code",
      "execution_count": 35,
      "id": "badf83fc",
      "metadata": {
        "execution": {
          "iopub.execute_input": "2022-05-03T10:26:31.159575Z",
          "iopub.status.busy": "2022-05-03T10:26:31.159356Z",
          "iopub.status.idle": "2022-05-03T10:26:31.203792Z",
          "shell.execute_reply": "2022-05-03T10:26:31.203003Z"
        },
        "papermill": {
          "duration": 0.091136,
          "end_time": "2022-05-03T10:26:31.205498",
          "exception": false,
          "start_time": "2022-05-03T10:26:31.114362",
          "status": "completed"
        },
        "tags": [],
        "colab": {
          "base_uri": "https://localhost:8080/"
        },
        "id": "badf83fc",
        "outputId": "740f014a-a412-4755-f9a1-f5a5d056e441"
      },
      "outputs": [
        {
          "output_type": "stream",
          "name": "stdout",
          "text": [
            "(16590, 11)\n"
          ]
        }
      ],
      "source": [
        "# SAMPLES\n",
        "train_mask = list(df_train[df_train['large_bowel']!=''].index)\n",
        "train_mask += list(df_train[df_train['small_bowel']!=''].index)\n",
        "train_mask += list(df_train[df_train['stomach']!=''].index)\n",
        "\n",
        "df_train=df_train[df_train.index.isin(train_mask)]     \n",
        "df_train.reset_index(inplace=True,drop=True)\n",
        "print(df_train.shape)"
      ]
    },
    {
      "cell_type": "code",
      "execution_count": 36,
      "id": "5cae5ece",
      "metadata": {
        "execution": {
          "iopub.execute_input": "2022-05-03T10:26:31.294880Z",
          "iopub.status.busy": "2022-05-03T10:26:31.294427Z",
          "iopub.status.idle": "2022-05-03T10:26:31.392081Z",
          "shell.execute_reply": "2022-05-03T10:26:31.391267Z"
        },
        "papermill": {
          "duration": 0.144264,
          "end_time": "2022-05-03T10:26:31.393914",
          "exception": false,
          "start_time": "2022-05-03T10:26:31.249650",
          "status": "completed"
        },
        "tags": [],
        "colab": {
          "base_uri": "https://localhost:8080/"
        },
        "id": "5cae5ece",
        "outputId": "7c76da81-59f2-4fc8-9a57-4c147b6dae93"
      },
      "outputs": [
        {
          "output_type": "execute_result",
          "data": {
            "text/plain": [
              "fold\n",
              "1    3973\n",
              "2    2806\n",
              "3    3656\n",
              "4    3121\n",
              "5    3034\n",
              "dtype: int64"
            ]
          },
          "metadata": {},
          "execution_count": 36
        }
      ],
      "source": [
        "skf = StratifiedGroupKFold(n_splits=CFG.n_fold, shuffle=True, random_state=42)\n",
        "for fold, (_, val_idx) in enumerate(skf.split(X=df_train, y=df_train['count'],groups =df_train['case']), 1):\n",
        "    df_train.loc[val_idx, 'fold'] = fold\n",
        "    \n",
        "df_train['fold'] = df_train['fold'].astype(np.uint8)\n",
        "\n",
        "train_ids = df_train[df_train[\"fold\"]!=CFG.fold_selected].index\n",
        "valid_ids = df_train[df_train[\"fold\"]==CFG.fold_selected].index\n",
        "\n",
        "df_train.groupby('fold').size()"
      ]
    },
    {
      "cell_type": "code",
      "execution_count": 37,
      "id": "e8380ecb",
      "metadata": {
        "execution": {
          "iopub.execute_input": "2022-05-03T10:26:31.484268Z",
          "iopub.status.busy": "2022-05-03T10:26:31.483741Z",
          "iopub.status.idle": "2022-05-03T10:26:31.493884Z",
          "shell.execute_reply": "2022-05-03T10:26:31.493084Z"
        },
        "papermill": {
          "duration": 0.057359,
          "end_time": "2022-05-03T10:26:31.495612",
          "exception": false,
          "start_time": "2022-05-03T10:26:31.438253",
          "status": "completed"
        },
        "tags": [],
        "colab": {
          "base_uri": "https://localhost:8080/",
          "height": 312
        },
        "id": "e8380ecb",
        "outputId": "d9d859d4-77d4-4da0-c738-e907de730657"
      },
      "outputs": [
        {
          "output_type": "display_data",
          "data": {
            "text/plain": [
              "fold  count\n",
              "1     1         556\n",
              "      2        2664\n",
              "      3         753\n",
              "2     1         362\n",
              "      2        1843\n",
              "      3         601\n",
              "3     1         607\n",
              "      2        2348\n",
              "      3         701\n",
              "4     1         566\n",
              "      2        2018\n",
              "      3         537\n",
              "5     1         377\n",
              "      2        2048\n",
              "      3         609\n",
              "Name: id, dtype: int64"
            ]
          },
          "metadata": {}
        }
      ],
      "source": [
        "display(df_train.groupby(['fold','count'])['id'].count())"
      ]
    },
    {
      "cell_type": "markdown",
      "id": "8edd26a5",
      "metadata": {
        "papermill": {
          "duration": 0.045354,
          "end_time": "2022-05-03T10:26:31.587881",
          "exception": false,
          "start_time": "2022-05-03T10:26:31.542527",
          "status": "completed"
        },
        "tags": [],
        "id": "8edd26a5"
      },
      "source": [
        "# Dataset"
      ]
    },
    {
      "cell_type": "code",
      "execution_count": 38,
      "id": "2bbdda11",
      "metadata": {
        "execution": {
          "iopub.execute_input": "2022-05-03T10:26:31.679124Z",
          "iopub.status.busy": "2022-05-03T10:26:31.678891Z",
          "iopub.status.idle": "2022-05-03T10:26:31.692612Z",
          "shell.execute_reply": "2022-05-03T10:26:31.691969Z"
        },
        "papermill": {
          "duration": 0.060923,
          "end_time": "2022-05-03T10:26:31.694226",
          "exception": false,
          "start_time": "2022-05-03T10:26:31.633303",
          "status": "completed"
        },
        "tags": [],
        "id": "2bbdda11"
      },
      "outputs": [],
      "source": [
        "class BuildDataset(torch.utils.data.Dataset):\n",
        "    def __init__(self, df, subset=\"train\", transforms=None):\n",
        "        self.df = df\n",
        "        self.subset = subset\n",
        "        self.transforms = transforms\n",
        "\n",
        "    def __len__(self):\n",
        "        return len(self.df)\n",
        "    \n",
        "    \n",
        "    def __getitem__(self, index): \n",
        "        masks = np.zeros((CFG.img_size[0],CFG.img_size[1], 3), dtype=np.float32)\n",
        "        img_path=self.df['path'].iloc[index]\n",
        "        w=self.df['width'].iloc[index]\n",
        "        h=self.df['height'].iloc[index]\n",
        "        img = self.__load_img(img_path)\n",
        "        if self.subset == 'train':\n",
        "            for k,j in zip([0,1,2],[\"large_bowel\",\"small_bowel\",\"stomach\"]):\n",
        "                rles=self.df[j].iloc[index]\n",
        "                mask = rle_decode(rles, shape=(h, w, 1))\n",
        "                mask = cv2.resize(mask, CFG.img_size)\n",
        "                masks[:,:,k] = mask\n",
        "        \n",
        "        masks = masks.transpose(2, 0, 1)\n",
        "        img = img.transpose(2, 0, 1)\n",
        "\n",
        "        if self.subset == 'train': return torch.tensor(img), torch.tensor(masks)\n",
        "        else: return torch.tensor(img)\n",
        "        \n",
        "    def __load_gray_img(self, img_path):\n",
        "        img = cv2.imread(img_path, cv2.IMREAD_ANYDEPTH)\n",
        "        img = (img - img.min())/(img.max() - img.min())*255.0 \n",
        "        img = cv2.resize(img, CFG.img_size)\n",
        "        img = np.expand_dims(img, axis=-1)\n",
        "        img = img.astype(np.float32) / 255.\n",
        "        return img\n",
        "    def __load_img(self, img_path):\n",
        "        img = cv2.imread(img_path, cv2.IMREAD_UNCHANGED)\n",
        "        img = (img - img.min())/(img.max() - img.min())*255.0 \n",
        "        img = cv2.resize(img, CFG.img_size)\n",
        "        img = np.tile(img[...,None], [1, 1, 3]) # gray to rgb\n",
        "        img = img.astype(np.float32) /255.\n",
        "        return img\n",
        "    \n",
        "\n"
      ]
    },
    {
      "cell_type": "markdown",
      "id": "dbe58075",
      "metadata": {
        "papermill": {
          "duration": 0.047884,
          "end_time": "2022-05-03T10:26:31.787180",
          "exception": false,
          "start_time": "2022-05-03T10:26:31.739296",
          "status": "completed"
        },
        "tags": [],
        "id": "dbe58075"
      },
      "source": [
        "# Augmentations"
      ]
    },
    {
      "cell_type": "code",
      "execution_count": 39,
      "id": "ffe6094f",
      "metadata": {
        "_kg_hide-output": true,
        "execution": {
          "iopub.execute_input": "2022-05-03T10:26:31.889726Z",
          "iopub.status.busy": "2022-05-03T10:26:31.889174Z",
          "iopub.status.idle": "2022-05-03T10:26:31.895312Z",
          "shell.execute_reply": "2022-05-03T10:26:31.894579Z"
        },
        "papermill": {
          "duration": 0.061557,
          "end_time": "2022-05-03T10:26:31.897177",
          "exception": false,
          "start_time": "2022-05-03T10:26:31.835620",
          "status": "completed"
        },
        "tags": [],
        "id": "ffe6094f"
      },
      "outputs": [],
      "source": [
        "data_transforms = {\n",
        "    \"train\": A.Compose([\n",
        "        A.Resize(*CFG.img_size, interpolation=cv2.INTER_NEAREST),\n",
        "        A.HorizontalFlip(),\n",
        "        A.VerticalFlip(),\n",
        "        A.OneOf([\n",
        "                A.RandomContrast(),\n",
        "                A.RandomGamma(),\n",
        "                A.RandomBrightness(),\n",
        "                ], p=0.2),\n",
        "\n",
        "        ], p=1.0),\n",
        "    \"valid\": A.Compose([\n",
        "        A.Resize(*CFG.img_size, interpolation=cv2.INTER_NEAREST),\n",
        "        ], p=1.0)\n",
        "}"
      ]
    },
    {
      "cell_type": "markdown",
      "id": "c8b5952f",
      "metadata": {
        "papermill": {
          "duration": 0.046601,
          "end_time": "2022-05-03T10:26:31.993422",
          "exception": false,
          "start_time": "2022-05-03T10:26:31.946821",
          "status": "completed"
        },
        "tags": [],
        "id": "c8b5952f"
      },
      "source": [
        "# DataLoader"
      ]
    },
    {
      "cell_type": "code",
      "execution_count": 40,
      "id": "fd922254",
      "metadata": {
        "execution": {
          "iopub.execute_input": "2022-05-03T10:26:32.085457Z",
          "iopub.status.busy": "2022-05-03T10:26:32.084872Z",
          "iopub.status.idle": "2022-05-03T10:26:38.239057Z",
          "shell.execute_reply": "2022-05-03T10:26:38.238308Z"
        },
        "papermill": {
          "duration": 6.202756,
          "end_time": "2022-05-03T10:26:38.241344",
          "exception": false,
          "start_time": "2022-05-03T10:26:32.038588",
          "status": "completed"
        },
        "tags": [],
        "colab": {
          "base_uri": "https://localhost:8080/"
        },
        "id": "fd922254",
        "outputId": "f45a78f9-7f1f-4553-b6cf-82c04c970f3f"
      },
      "outputs": [
        {
          "output_type": "execute_result",
          "data": {
            "text/plain": [
              "(torch.Size([32, 3, 224, 224]), torch.Size([32, 3, 224, 224]))"
            ]
          },
          "metadata": {},
          "execution_count": 40
        }
      ],
      "source": [
        "\n",
        "train_dataset = BuildDataset(df_train[df_train.index.isin(train_ids)], transforms=data_transforms['train'])\n",
        "valid_dataset = BuildDataset(df_train[df_train.index.isin(valid_ids)], transforms=data_transforms['valid'])\n",
        "\n",
        "train_loader = DataLoader(train_dataset, batch_size=CFG.train_bs, num_workers=4, shuffle=True, pin_memory=True, drop_last=False)\n",
        "valid_loader = DataLoader(valid_dataset, batch_size=CFG.valid_bs,num_workers=4, shuffle=False, pin_memory=True)\n",
        "    \n",
        "\n",
        "imgs, msks = next(iter(train_loader))\n",
        "imgs.size(), msks.size()"
      ]
    },
    {
      "cell_type": "markdown",
      "id": "08ff5afd",
      "metadata": {
        "papermill": {
          "duration": 0.046102,
          "end_time": "2022-05-03T10:26:38.335518",
          "exception": false,
          "start_time": "2022-05-03T10:26:38.289416",
          "status": "completed"
        },
        "tags": [],
        "id": "08ff5afd"
      },
      "source": [
        "#  Visualization"
      ]
    },
    {
      "cell_type": "code",
      "execution_count": 41,
      "id": "1b60fd9f",
      "metadata": {
        "_kg_hide-input": true,
        "execution": {
          "iopub.execute_input": "2022-05-03T10:26:38.429061Z",
          "iopub.status.busy": "2022-05-03T10:26:38.428815Z",
          "iopub.status.idle": "2022-05-03T10:26:41.167607Z",
          "shell.execute_reply": "2022-05-03T10:26:41.166891Z"
        },
        "papermill": {
          "duration": 2.791225,
          "end_time": "2022-05-03T10:26:41.172987",
          "exception": false,
          "start_time": "2022-05-03T10:26:38.381762",
          "status": "completed"
        },
        "tags": [],
        "colab": {
          "base_uri": "https://localhost:8080/",
          "height": 150
        },
        "id": "1b60fd9f",
        "outputId": "a5349789-967b-4862-b227-1d802e9e1183"
      },
      "outputs": [
        {
          "output_type": "display_data",
          "data": {
            "text/plain": [
              "<Figure size 1800x360 with 5 Axes>"
            ],
            "image/png": "[encoded data removed]"
          },
          "metadata": {
            "needs_background": "light"
          }
        }
      ],
      "source": [
        "imgs, msks = next(iter(train_loader))\n",
        "imgs.size(), msks.size()\n",
        "\n",
        "def plot_batch(imgs, msks, size=3):\n",
        "    plt.figure(figsize=(5*5, 5))\n",
        "    for idx in range(size):\n",
        "        plt.subplot(1, 5, idx+1)\n",
        "        img = imgs[idx,].permute((1, 2, 0)).numpy()\n",
        "        msk = msks[idx,].permute((1, 2, 0)).numpy()\n",
        "        show_img(img, msk)\n",
        "    plt.tight_layout()\n",
        "    plt.show()\n",
        "\n",
        "plot_batch(imgs, msks, size=5)"
      ]
    },
    {
      "cell_type": "code",
      "execution_count": 42,
      "id": "abab352d",
      "metadata": {
        "execution": {
          "iopub.execute_input": "2022-05-03T10:26:41.283453Z",
          "iopub.status.busy": "2022-05-03T10:26:41.283216Z",
          "iopub.status.idle": "2022-05-03T10:26:41.569485Z",
          "shell.execute_reply": "2022-05-03T10:26:41.568788Z"
        },
        "papermill": {
          "duration": 0.343951,
          "end_time": "2022-05-03T10:26:41.571605",
          "exception": false,
          "start_time": "2022-05-03T10:26:41.227654",
          "status": "completed"
        },
        "tags": [],
        "colab": {
          "base_uri": "https://localhost:8080/"
        },
        "id": "abab352d",
        "outputId": "b20521b3-cbb2-4ba1-97aa-645fab3b3afd"
      },
      "outputs": [
        {
          "output_type": "execute_result",
          "data": {
            "text/plain": [
              "13922"
            ]
          },
          "metadata": {},
          "execution_count": 42
        }
      ],
      "source": [
        "\n",
        "gc.collect()"
      ]
    },
    {
      "cell_type": "markdown",
      "id": "d89aae7a",
      "metadata": {
        "papermill": {
          "duration": 0.053975,
          "end_time": "2022-05-03T10:26:41.681868",
          "exception": false,
          "start_time": "2022-05-03T10:26:41.627893",
          "status": "completed"
        },
        "tags": [],
        "id": "d89aae7a"
      },
      "source": [
        "# UNet Model\n"
      ]
    },
    {
      "cell_type": "code",
      "execution_count": 43,
      "id": "867089de",
      "metadata": {
        "execution": {
          "iopub.execute_input": "2022-05-03T10:26:41.822722Z",
          "iopub.status.busy": "2022-05-03T10:26:41.822411Z",
          "iopub.status.idle": "2022-05-03T10:26:41.853242Z",
          "shell.execute_reply": "2022-05-03T10:26:41.852569Z"
        },
        "papermill": {
          "duration": 0.118548,
          "end_time": "2022-05-03T10:26:41.854859",
          "exception": false,
          "start_time": "2022-05-03T10:26:41.736311",
          "status": "completed"
        },
        "tags": [],
        "id": "867089de"
      },
      "outputs": [],
      "source": [
        "class DoubleConv(nn.Module):\n",
        "    \"\"\"(Conv3D -> BN -> ReLU) * 2\"\"\"\n",
        "    def __init__(self, in_channels, out_channels, num_groups=8):\n",
        "        super().__init__()\n",
        "        self.double_conv = nn.Sequential(\n",
        "            nn.Conv2d(in_channels, out_channels, kernel_size=3, stride=1, padding=1),\n",
        "            nn.BatchNorm2d(out_channels),\n",
        "            nn.ReLU(inplace=True),\n",
        "\n",
        "            nn.Conv2d(out_channels, out_channels, kernel_size=3, stride=1, padding=1),\n",
        "            nn.BatchNorm2d(out_channels),\n",
        "            nn.ReLU(inplace=True)\n",
        "          )     \n",
        "        \n",
        "    def forward(self,x):\n",
        "        return self.double_conv(x)\n",
        "\n",
        "    \n",
        "class Down(nn.Module):\n",
        "\n",
        "    def __init__(self, in_channels, out_channels):\n",
        "        super().__init__()\n",
        "        self.encoder = nn.Sequential(\n",
        "            nn.MaxPool2d(2, 2),\n",
        "            DoubleConv(in_channels, out_channels)\n",
        "        )\n",
        "    def forward(self, x):\n",
        "        return self.encoder(x)\n",
        "\n",
        "    \n",
        "class Up(nn.Module):\n",
        "\n",
        "    def __init__(self, in_channels, out_channels, bilinear=True):\n",
        "        super().__init__()\n",
        "        \n",
        "        if bilinear:\n",
        "            self.up = nn.Upsample(scale_factor=2, mode='bilinear', align_corners=True)\n",
        "        else:\n",
        "            self.up = nn.ConvTranspose2d(in_channels // 2, in_channels // 2, kernel_size=2, stride=2)\n",
        "            \n",
        "        self.conv = DoubleConv(in_channels, out_channels)\n",
        "        \n",
        "    def forward(self, x1, x2):\n",
        "        x1 = self.up(x1)\n",
        "\n",
        "        diffY = x2.size()[2] - x1.size()[2]\n",
        "        diffX = x2.size()[3] - x1.size()[3]\n",
        "\n",
        "        x1 = F.pad(x1, (diffX // 2, diffX - diffX // 2,\n",
        "                        diffY // 2, diffY - diffY // 2))\n",
        "        x = torch.cat([x2, x1], dim=1)\n",
        "        x = self.conv(x)\n",
        "        return x       \n",
        "\n",
        "    \n",
        "class Out(nn.Module):\n",
        "    def __init__(self, in_channels, out_channels):\n",
        "        super().__init__()\n",
        "        self.conv = nn.Conv2d(in_channels, out_channels, kernel_size = 1)\n",
        "\n",
        "    def forward(self, x):\n",
        "        return self.conv(x)\n",
        "\n",
        "\n",
        "class UNet(nn.Module):\n",
        "    def __init__(self, in_channels, n_classes, n_channels):\n",
        "        super().__init__()\n",
        "        self.in_channels = in_channels\n",
        "        self.n_classes = n_classes\n",
        "        self.n_channels = n_channels\n",
        "\n",
        "        self.conv = DoubleConv(in_channels, n_channels)\n",
        "        self.enc1 = Down(n_channels, 2 * n_channels)\n",
        "        self.enc2 = Down(2 * n_channels, 4 * n_channels)\n",
        "        self.enc3 = Down(4 * n_channels, 8 * n_channels)\n",
        "        self.enc4 = Down(8 * n_channels, 16 * n_channels)\n",
        "        self.enc5 = Down(16 * n_channels, 16 * n_channels)\n",
        "        \n",
        "        self.dec1 = Up(32 * n_channels, 8 * n_channels)\n",
        "        self.dec2 = Up(16 * n_channels, 4 * n_channels)\n",
        "        self.dec3 = Up(8 * n_channels, 2 * n_channels)\n",
        "        self.dec4 = Up(4 * n_channels, n_channels)\n",
        "        self.dec5 = Up(2 * n_channels, n_channels)\n",
        "        self.out = Out(n_channels, n_classes)\n",
        "\n",
        "    def forward(self, x):\n",
        "        x1 = self.conv(x)\n",
        "        x2 = self.enc1(x1)\n",
        "        x3 = self.enc2(x2)\n",
        "        x4 = self.enc3(x3)\n",
        "        x5 = self.enc4(x4)\n",
        "        x6 = self.enc5(x5)\n",
        "        \n",
        "        mask = self.dec1(x6, x5)\n",
        "        mask = self.dec2(mask, x4)\n",
        "        mask = self.dec3(mask, x3)\n",
        "        mask = self.dec4(mask, x2)\n",
        "        mask = self.dec5(mask, x1)\n",
        "        mask = self.out(mask)\n",
        "        return mask"
      ]
    },
    {
      "cell_type": "code",
      "execution_count": 44,
      "id": "94628037",
      "metadata": {
        "execution": {
          "iopub.execute_input": "2022-05-03T10:26:41.965091Z",
          "iopub.status.busy": "2022-05-03T10:26:41.964411Z",
          "iopub.status.idle": "2022-05-03T10:26:41.969324Z",
          "shell.execute_reply": "2022-05-03T10:26:41.968636Z"
        },
        "papermill": {
          "duration": 0.061449,
          "end_time": "2022-05-03T10:26:41.970974",
          "exception": false,
          "start_time": "2022-05-03T10:26:41.909525",
          "status": "completed"
        },
        "tags": [],
        "id": "94628037"
      },
      "outputs": [],
      "source": [
        "def build_model():\n",
        "    model = UNet(in_channels=3, n_classes=3, n_channels=48)\n",
        "    model.to(CFG.device)\n",
        "    return model\n",
        "\n",
        "\n",
        "def load_model(path):\n",
        "    model = build_model()\n",
        "    model.load_state_dict(torch.load(path))\n",
        "    model.eval()\n",
        "    return model"
      ]
    },
    {
      "cell_type": "markdown",
      "id": "61d3b334",
      "metadata": {
        "papermill": {
          "duration": 0.054254,
          "end_time": "2022-05-03T10:26:42.080124",
          "exception": false,
          "start_time": "2022-05-03T10:26:42.025870",
          "status": "completed"
        },
        "tags": [],
        "id": "61d3b334"
      },
      "source": [
        "# 🔧 Loss Function"
      ]
    },
    {
      "cell_type": "code",
      "execution_count": 45,
      "id": "a1bb7dab",
      "metadata": {
        "execution": {
          "iopub.execute_input": "2022-05-03T10:26:42.190616Z",
          "iopub.status.busy": "2022-05-03T10:26:42.190405Z",
          "iopub.status.idle": "2022-05-03T10:26:42.200306Z",
          "shell.execute_reply": "2022-05-03T10:26:42.199607Z"
        },
        "papermill": {
          "duration": 0.067924,
          "end_time": "2022-05-03T10:26:42.202214",
          "exception": false,
          "start_time": "2022-05-03T10:26:42.134290",
          "status": "completed"
        },
        "tags": [],
        "id": "a1bb7dab"
      },
      "outputs": [],
      "source": [
        "JaccardLoss = smp.losses.JaccardLoss(mode='multilabel')\n",
        "DiceLoss    = smp.losses.DiceLoss(mode='multilabel')\n",
        "BCELoss     = smp.losses.SoftBCEWithLogitsLoss()\n",
        "LovaszLoss  = smp.losses.LovaszLoss(mode='multilabel', per_image=False)\n",
        "TverskyLoss = smp.losses.TverskyLoss(mode='multilabel', log_loss=False)\n",
        "\n",
        "def dice_coef(y_true, y_pred, thr=0.5, dim=(2,3), epsilon=0.001):\n",
        "    y_true = y_true.to(torch.float32)\n",
        "    y_pred = (y_pred>thr).to(torch.float32)\n",
        "    inter = (y_true*y_pred).sum(dim=dim)\n",
        "    den = y_true.sum(dim=dim) + y_pred.sum(dim=dim)\n",
        "    dice = ((2*inter+epsilon)/(den+epsilon)).mean(dim=(1,0))\n",
        "    return dice\n",
        "\n",
        "def iou_coef(y_true, y_pred, thr=0.5, dim=(2,3), epsilon=0.001):\n",
        "    y_true = y_true.to(torch.float32)\n",
        "    y_pred = (y_pred>thr).to(torch.float32)\n",
        "    inter = (y_true*y_pred).sum(dim=dim)\n",
        "    union = (y_true + y_pred - y_true*y_pred).sum(dim=dim)\n",
        "    iou = ((inter+epsilon)/(union+epsilon)).mean(dim=(1,0))\n",
        "    return iou\n",
        "\n",
        "def criterion(y_pred, y_true):\n",
        "    return 0.6*BCELoss(y_pred, y_true) + 0.4*DiceLoss(y_pred, y_true)"
      ]
    },
    {
      "cell_type": "markdown",
      "id": "6ce44f9e",
      "metadata": {
        "papermill": {
          "duration": 0.054247,
          "end_time": "2022-05-03T10:26:42.310862",
          "exception": false,
          "start_time": "2022-05-03T10:26:42.256615",
          "status": "completed"
        },
        "tags": [],
        "id": "6ce44f9e"
      },
      "source": [
        "# Training Function"
      ]
    },
    {
      "cell_type": "code",
      "execution_count": 46,
      "id": "8a01c5bd",
      "metadata": {
        "execution": {
          "iopub.execute_input": "2022-05-03T10:26:42.420360Z",
          "iopub.status.busy": "2022-05-03T10:26:42.420120Z",
          "iopub.status.idle": "2022-05-03T10:26:42.430020Z",
          "shell.execute_reply": "2022-05-03T10:26:42.429363Z"
        },
        "papermill": {
          "duration": 0.066554,
          "end_time": "2022-05-03T10:26:42.431723",
          "exception": false,
          "start_time": "2022-05-03T10:26:42.365169",
          "status": "completed"
        },
        "tags": [],
        "id": "8a01c5bd"
      },
      "outputs": [],
      "source": [
        "def train_one_epoch(model, optimizer, scheduler, dataloader, device, epoch):\n",
        "    model.train()\n",
        "    scaler = amp.GradScaler()\n",
        "    \n",
        "    dataset_size = 0\n",
        "    running_loss = 0.0\n",
        "    \n",
        "    pbar = tqdm(enumerate(dataloader), total=len(dataloader), desc='Train ')\n",
        "    for step, (images, masks) in pbar:         \n",
        "        images = images.to(device, dtype=torch.float)\n",
        "        masks  = masks.to(device, dtype=torch.float)\n",
        "        \n",
        "        batch_size = images.size(0)\n",
        "        \n",
        "        with amp.autocast(enabled=True):\n",
        "            y_pred = model(images)\n",
        "            loss   = criterion(y_pred, masks)\n",
        "            loss   = loss / CFG.n_accumulate\n",
        "            \n",
        "        scaler.scale(loss).backward()\n",
        "    \n",
        "        if (step + 1) % CFG.n_accumulate == 0:\n",
        "            scaler.step(optimizer)\n",
        "            scaler.update()\n",
        "\n",
        "            # zero the parameter gradients\n",
        "            optimizer.zero_grad()\n",
        "\n",
        "            if scheduler is not None:\n",
        "                scheduler.step()\n",
        "                \n",
        "        running_loss += (loss.item() * batch_size)\n",
        "        dataset_size += batch_size\n",
        "        \n",
        "        epoch_loss = running_loss / dataset_size\n",
        "        \n",
        "        mem = torch.cuda.memory_reserved() / 1E9 if torch.cuda.is_available() else 0\n",
        "        current_lr = optimizer.param_groups[0]['lr']\n",
        "        pbar.set_postfix(train_loss=f'{epoch_loss:0.4f}',\n",
        "                        lr=f'{current_lr:0.5f}',\n",
        "                        gpu_mem=f'{mem:0.2f} GB')\n",
        "    torch.cuda.empty_cache()\n",
        "    gc.collect()\n",
        "    \n",
        "    return epoch_loss"
      ]
    },
    {
      "cell_type": "markdown",
      "id": "ba1a1c2f",
      "metadata": {
        "papermill": {
          "duration": 0.053861,
          "end_time": "2022-05-03T10:26:42.540249",
          "exception": false,
          "start_time": "2022-05-03T10:26:42.486388",
          "status": "completed"
        },
        "tags": [],
        "id": "ba1a1c2f"
      },
      "source": [
        "# Validation Function"
      ]
    },
    {
      "cell_type": "code",
      "execution_count": 47,
      "id": "532ea553",
      "metadata": {
        "execution": {
          "iopub.execute_input": "2022-05-03T10:26:42.653801Z",
          "iopub.status.busy": "2022-05-03T10:26:42.653314Z",
          "iopub.status.idle": "2022-05-03T10:26:42.663282Z",
          "shell.execute_reply": "2022-05-03T10:26:42.662520Z"
        },
        "papermill": {
          "duration": 0.069337,
          "end_time": "2022-05-03T10:26:42.665053",
          "exception": false,
          "start_time": "2022-05-03T10:26:42.595716",
          "status": "completed"
        },
        "tags": [],
        "id": "532ea553"
      },
      "outputs": [],
      "source": [
        "@torch.no_grad()\n",
        "def valid_one_epoch(model, dataloader, device, epoch):\n",
        "    model.eval()\n",
        "    \n",
        "    dataset_size = 0\n",
        "    running_loss = 0.0\n",
        "    \n",
        "    val_scores = []\n",
        "    \n",
        "    pbar = tqdm(enumerate(dataloader), total=len(dataloader), desc='Valid ')\n",
        "    for step, (images, masks) in pbar:        \n",
        "        images  = images.to(device, dtype=torch.float)\n",
        "        masks   = masks.to(device, dtype=torch.float)\n",
        "        \n",
        "        batch_size = images.size(0)\n",
        "        \n",
        "        y_pred  = model(images)\n",
        "        loss    = criterion(y_pred, masks)\n",
        "        \n",
        "        running_loss += (loss.item() * batch_size)\n",
        "        dataset_size += batch_size\n",
        "        \n",
        "        epoch_loss = running_loss / dataset_size\n",
        "        \n",
        "        y_pred = nn.Sigmoid()(y_pred)\n",
        "        val_dice = dice_coef(masks, y_pred).cpu().detach().numpy()\n",
        "        val_jaccard = iou_coef(masks, y_pred).cpu().detach().numpy()\n",
        "        val_scores.append([val_dice, val_jaccard])\n",
        "        \n",
        "        mem = torch.cuda.memory_reserved() / 1E9 if torch.cuda.is_available() else 0\n",
        "        current_lr = optimizer.param_groups[0]['lr']\n",
        "        pbar.set_postfix(valid_loss=f'{epoch_loss:0.4f}',\n",
        "                        lr=f'{current_lr:0.5f}',\n",
        "                        gpu_memory=f'{mem:0.2f} GB')\n",
        "    val_scores  = np.mean(val_scores, axis=0)\n",
        "    torch.cuda.empty_cache()\n",
        "    gc.collect()\n",
        "    \n",
        "    return epoch_loss, val_scores"
      ]
    },
    {
      "cell_type": "markdown",
      "id": "1c5d6495",
      "metadata": {
        "papermill": {
          "duration": 0.054906,
          "end_time": "2022-05-03T10:26:42.775650",
          "exception": false,
          "start_time": "2022-05-03T10:26:42.720744",
          "status": "completed"
        },
        "tags": [],
        "id": "1c5d6495"
      },
      "source": [
        "# Training"
      ]
    },
    {
      "cell_type": "code",
      "execution_count": 48,
      "id": "9e6ad95f",
      "metadata": {
        "execution": {
          "iopub.execute_input": "2022-05-03T10:26:42.886121Z",
          "iopub.status.busy": "2022-05-03T10:26:42.885519Z",
          "iopub.status.idle": "2022-05-03T10:26:42.897815Z",
          "shell.execute_reply": "2022-05-03T10:26:42.897085Z"
        },
        "papermill": {
          "duration": 0.070078,
          "end_time": "2022-05-03T10:26:42.899688",
          "exception": false,
          "start_time": "2022-05-03T10:26:42.829610",
          "status": "completed"
        },
        "tags": [],
        "id": "9e6ad95f"
      },
      "outputs": [],
      "source": [
        "def run_training(model, optimizer, scheduler, device, num_epochs):\n",
        "    # To automatically log gradients\n",
        "\n",
        "    \n",
        "    if torch.cuda.is_available():\n",
        "        print(\"cuda: {}\\n\".format(torch.cuda.get_device_name()))\n",
        "    \n",
        "    start = time.time()\n",
        "    best_model_wts = copy.deepcopy(model.state_dict())\n",
        "    best_dice      = -np.inf\n",
        "    best_epoch     = -1\n",
        "    history = defaultdict(list)\n",
        "    \n",
        "    for epoch in range(1, num_epochs + 1): \n",
        "        gc.collect()\n",
        "        print(f'Epoch {epoch}/{num_epochs}', end='')\n",
        "        train_loss = train_one_epoch(model, optimizer, scheduler, \n",
        "                                           dataloader=train_loader, \n",
        "                                           device=CFG.device, epoch=epoch)\n",
        "        \n",
        "        val_loss, val_scores = valid_one_epoch(model, valid_loader, \n",
        "                                                 device=CFG.device, \n",
        "                                                 epoch=epoch)\n",
        "        val_dice, val_jaccard = val_scores\n",
        "    \n",
        "        history['Train Loss'].append(train_loss)\n",
        "        history['Valid Loss'].append(val_loss)\n",
        "        history['Valid Dice'].append(val_dice)\n",
        "        history['Valid Jaccard'].append(val_jaccard)\n",
        "        \n",
        "        # Log the metrics\n",
        "\n",
        "        \n",
        "        print(f'Valid Dice: {val_dice:0.4f} | Valid Jaccard: {val_jaccard:0.4f}')\n",
        "        \n",
        "        # deep copy the model\n",
        "        if val_dice >= best_dice:\n",
        "            print(f\"{c_}Valid Score Improved ({best_dice:0.4f} ---> {val_dice:0.4f})\")\n",
        "            best_dice    = val_dice\n",
        "            best_jaccard = val_jaccard\n",
        "            best_epoch   = epoch\n",
        "            #run.summary[\"Best Dice\"]    = best_dice\n",
        "           # run.summary[\"Best Jaccard\"] = best_jaccard\n",
        "           # run.summary[\"Best Epoch\"]   = best_epoch\n",
        "            best_model_wts = copy.deepcopy(model.state_dict())\n",
        "            PATH = f\"best_epoch-{fold:02d}.bin\"\n",
        "            torch.save(model.state_dict(), PATH)\n",
        "            # Save a model file from the current directory\n",
        "            print(f\"Model Saved{sr_}\")\n",
        "            \n",
        "        last_model_wts = copy.deepcopy(model.state_dict())\n",
        "        PATH = f\"last_epoch-{fold:02d}.bin\"\n",
        "        torch.save(model.state_dict(), PATH)\n",
        "            \n",
        "        print(); print()\n",
        "    \n",
        "    end = time.time()\n",
        "    time_elapsed = end - start\n",
        "    print('Training complete in {:.0f}h {:.0f}m {:.0f}s'.format(\n",
        "        time_elapsed // 3600, (time_elapsed % 3600) // 60, (time_elapsed % 3600) % 60))\n",
        "    print(\"Best Score: {:.4f}\".format(best_jaccard))\n",
        "    \n",
        "    # load best model weights\n",
        "    model.load_state_dict(best_model_wts)\n",
        "    \n",
        "    return model, history"
      ]
    },
    {
      "cell_type": "code",
      "execution_count": 49,
      "id": "eceff307",
      "metadata": {
        "execution": {
          "iopub.execute_input": "2022-05-03T10:26:43.009652Z",
          "iopub.status.busy": "2022-05-03T10:26:43.009444Z",
          "iopub.status.idle": "2022-05-03T10:26:43.015690Z",
          "shell.execute_reply": "2022-05-03T10:26:43.015071Z"
        },
        "papermill": {
          "duration": 0.063386,
          "end_time": "2022-05-03T10:26:43.017442",
          "exception": false,
          "start_time": "2022-05-03T10:26:42.954056",
          "status": "completed"
        },
        "tags": [],
        "id": "eceff307"
      },
      "outputs": [],
      "source": [
        "def fetch_scheduler(optimizer):\n",
        "    if CFG.scheduler == 'CosineAnnealingLR':\n",
        "        scheduler = lr_scheduler.CosineAnnealingLR(optimizer,T_max=CFG.T_max, \n",
        "                                                   eta_min=CFG.min_lr)\n",
        "    elif CFG.scheduler == 'CosineAnnealingWarmRestarts':\n",
        "        scheduler = lr_scheduler.CosineAnnealingWarmRestarts(optimizer,T_0=CFG.T_0, \n",
        "                                                             eta_min=CFG.min_lr)\n",
        "    elif CFG.scheduler == 'ReduceLROnPlateau':\n",
        "        scheduler = lr_scheduler.ReduceLROnPlateau(optimizer,\n",
        "                                                   mode='min',\n",
        "                                                   factor=0.1,\n",
        "                                                   patience=7,\n",
        "                                                   threshold=0.0001,\n",
        "                                                   min_lr=CFG.min_lr,)\n",
        "    elif CFG.scheduer == 'ExponentialLR':\n",
        "        scheduler = lr_scheduler.ExponentialLR(optimizer, gamma=0.85)\n",
        "    elif CFG.scheduler == None:\n",
        "        return None\n",
        "        \n",
        "    return scheduler"
      ]
    },
    {
      "cell_type": "code",
      "execution_count": 50,
      "id": "17e9b310",
      "metadata": {
        "execution": {
          "iopub.execute_input": "2022-05-03T10:26:43.129087Z",
          "iopub.status.busy": "2022-05-03T10:26:43.128865Z",
          "iopub.status.idle": "2022-05-03T10:26:43.453517Z",
          "shell.execute_reply": "2022-05-03T10:26:43.452807Z"
        },
        "papermill": {
          "duration": 0.383548,
          "end_time": "2022-05-03T10:26:43.455935",
          "exception": false,
          "start_time": "2022-05-03T10:26:43.072387",
          "status": "completed"
        },
        "tags": [],
        "id": "17e9b310"
      },
      "outputs": [],
      "source": [
        "model = build_model()\n",
        "optimizer = optim.Adam(model.parameters(), lr=CFG.lr, weight_decay=CFG.wd)\n",
        "scheduler = fetch_scheduler(optimizer)"
      ]
    },
    {
      "cell_type": "markdown",
      "id": "488c405c",
      "metadata": {
        "papermill": {
          "duration": 0.060465,
          "end_time": "2022-05-03T10:26:43.576078",
          "exception": false,
          "start_time": "2022-05-03T10:26:43.515613",
          "status": "completed"
        },
        "tags": [],
        "id": "488c405c"
      },
      "source": [
        "# Start Training"
      ]
    },
    {
      "cell_type": "code",
      "execution_count": 51,
      "id": "4815cf7f",
      "metadata": {
        "_kg_hide-output": true,
        "execution": {
          "iopub.execute_input": "2022-05-03T10:26:43.687957Z",
          "iopub.status.busy": "2022-05-03T10:26:43.687715Z",
          "iopub.status.idle": "2022-05-03T13:09:20.213763Z",
          "shell.execute_reply": "2022-05-03T13:09:20.212977Z"
        },
        "papermill": {
          "duration": 9756.583327,
          "end_time": "2022-05-03T13:09:20.215758",
          "exception": false,
          "start_time": "2022-05-03T10:26:43.632431",
          "status": "completed"
        },
        "tags": [],
        "colab": {
          "base_uri": "https://localhost:8080/",
          "height": 450
        },
        "id": "4815cf7f",
        "outputId": "c100b970-ebce-4fc3-8047-11801342d00b"
      },
      "outputs": [
        {
          "output_type": "stream",
          "name": "stdout",
          "text": [
            "###################################\n",
            "######### Fold: 0\n",
            "###################################\n",
            "Epoch 1/20"
          ]
        },
        {
          "output_type": "stream",
          "name": "stderr",
          "text": [
            "Train :   0%|          | 0/395 [00:10<?, ?it/s]\n"
          ]
        },
        {
          "output_type": "error",
          "ename": "KeyboardInterrupt",
          "evalue": "ignored",
          "traceback": [
            "\u001b[0;31m---------------------------------------------------------------------------\u001b[0m",
            "\u001b[0;31mKeyboardInterrupt\u001b[0m                         Traceback (most recent call last)",
            "\u001b[0;32m<ipython-input-51-1573e45166d6>\u001b[0m in \u001b[0;36m<module>\u001b[0;34m()\u001b[0m\n\u001b[1;32m      8\u001b[0m     model, history = run_training(model, optimizer, scheduler,\n\u001b[1;32m      9\u001b[0m                                   \u001b[0mdevice\u001b[0m\u001b[0;34m=\u001b[0m\u001b[0mCFG\u001b[0m\u001b[0;34m.\u001b[0m\u001b[0mdevice\u001b[0m\u001b[0;34m,\u001b[0m\u001b[0;34m\u001b[0m\u001b[0;34m\u001b[0m\u001b[0m\n\u001b[0;32m---> 10\u001b[0;31m                                   num_epochs=CFG.epochs)\n\u001b[0m\u001b[1;32m     11\u001b[0m \u001b[0;34m\u001b[0m\u001b[0m\n",
            "\u001b[0;32m<ipython-input-48-fa2d5a88053d>\u001b[0m in \u001b[0;36mrun_training\u001b[0;34m(model, optimizer, scheduler, device, num_epochs)\u001b[0m\n\u001b[1;32m     17\u001b[0m         train_loss = train_one_epoch(model, optimizer, scheduler, \n\u001b[1;32m     18\u001b[0m                                            \u001b[0mdataloader\u001b[0m\u001b[0;34m=\u001b[0m\u001b[0mtrain_loader\u001b[0m\u001b[0;34m,\u001b[0m\u001b[0;34m\u001b[0m\u001b[0;34m\u001b[0m\u001b[0m\n\u001b[0;32m---> 19\u001b[0;31m                                            device=CFG.device, epoch=epoch)\n\u001b[0m\u001b[1;32m     20\u001b[0m \u001b[0;34m\u001b[0m\u001b[0m\n\u001b[1;32m     21\u001b[0m         val_loss, val_scores = valid_one_epoch(model, valid_loader, \n",
            "\u001b[0;32m<ipython-input-46-8cf4dc5e630d>\u001b[0m in \u001b[0;36mtrain_one_epoch\u001b[0;34m(model, optimizer, scheduler, dataloader, device, epoch)\u001b[0m\n\u001b[1;32m     14\u001b[0m \u001b[0;34m\u001b[0m\u001b[0m\n\u001b[1;32m     15\u001b[0m         \u001b[0;32mwith\u001b[0m \u001b[0mamp\u001b[0m\u001b[0;34m.\u001b[0m\u001b[0mautocast\u001b[0m\u001b[0;34m(\u001b[0m\u001b[0menabled\u001b[0m\u001b[0;34m=\u001b[0m\u001b[0;32mTrue\u001b[0m\u001b[0;34m)\u001b[0m\u001b[0;34m:\u001b[0m\u001b[0;34m\u001b[0m\u001b[0;34m\u001b[0m\u001b[0m\n\u001b[0;32m---> 16\u001b[0;31m             \u001b[0my_pred\u001b[0m \u001b[0;34m=\u001b[0m \u001b[0mmodel\u001b[0m\u001b[0;34m(\u001b[0m\u001b[0mimages\u001b[0m\u001b[0;34m)\u001b[0m\u001b[0;34m\u001b[0m\u001b[0;34m\u001b[0m\u001b[0m\n\u001b[0m\u001b[1;32m     17\u001b[0m             \u001b[0mloss\u001b[0m   \u001b[0;34m=\u001b[0m \u001b[0mcriterion\u001b[0m\u001b[0;34m(\u001b[0m\u001b[0my_pred\u001b[0m\u001b[0;34m,\u001b[0m \u001b[0mmasks\u001b[0m\u001b[0;34m)\u001b[0m\u001b[0;34m\u001b[0m\u001b[0;34m\u001b[0m\u001b[0m\n\u001b[1;32m     18\u001b[0m             \u001b[0mloss\u001b[0m   \u001b[0;34m=\u001b[0m \u001b[0mloss\u001b[0m \u001b[0;34m/\u001b[0m \u001b[0mCFG\u001b[0m\u001b[0;34m.\u001b[0m\u001b[0mn_accumulate\u001b[0m\u001b[0;34m\u001b[0m\u001b[0;34m\u001b[0m\u001b[0m\n",
            "\u001b[0;32m/usr/local/lib/python3.7/dist-packages/torch/nn/modules/module.py\u001b[0m in \u001b[0;36m_call_impl\u001b[0;34m(self, *input, **kwargs)\u001b[0m\n\u001b[1;32m   1108\u001b[0m         if not (self._backward_hooks or self._forward_hooks or self._forward_pre_hooks or _global_backward_hooks\n\u001b[1;32m   1109\u001b[0m                 or _global_forward_hooks or _global_forward_pre_hooks):\n\u001b[0;32m-> 1110\u001b[0;31m             \u001b[0;32mreturn\u001b[0m \u001b[0mforward_call\u001b[0m\u001b[0;34m(\u001b[0m\u001b[0;34m*\u001b[0m\u001b[0minput\u001b[0m\u001b[0;34m,\u001b[0m \u001b[0;34m**\u001b[0m\u001b[0mkwargs\u001b[0m\u001b[0;34m)\u001b[0m\u001b[0;34m\u001b[0m\u001b[0;34m\u001b[0m\u001b[0m\n\u001b[0m\u001b[1;32m   1111\u001b[0m         \u001b[0;31m# Do not call functions when jit is used\u001b[0m\u001b[0;34m\u001b[0m\u001b[0;34m\u001b[0m\u001b[0;34m\u001b[0m\u001b[0m\n\u001b[1;32m   1112\u001b[0m         \u001b[0mfull_backward_hooks\u001b[0m\u001b[0;34m,\u001b[0m \u001b[0mnon_full_backward_hooks\u001b[0m \u001b[0;34m=\u001b[0m \u001b[0;34m[\u001b[0m\u001b[0;34m]\u001b[0m\u001b[0;34m,\u001b[0m \u001b[0;34m[\u001b[0m\u001b[0;34m]\u001b[0m\u001b[0;34m\u001b[0m\u001b[0;34m\u001b[0m\u001b[0m\n",
            "\u001b[0;32m<ipython-input-43-607cf6d09c85>\u001b[0m in \u001b[0;36mforward\u001b[0;34m(self, x)\u001b[0m\n\u001b[1;32m     85\u001b[0m \u001b[0;34m\u001b[0m\u001b[0m\n\u001b[1;32m     86\u001b[0m     \u001b[0;32mdef\u001b[0m \u001b[0mforward\u001b[0m\u001b[0;34m(\u001b[0m\u001b[0mself\u001b[0m\u001b[0;34m,\u001b[0m \u001b[0mx\u001b[0m\u001b[0;34m)\u001b[0m\u001b[0;34m:\u001b[0m\u001b[0;34m\u001b[0m\u001b[0;34m\u001b[0m\u001b[0m\n\u001b[0;32m---> 87\u001b[0;31m         \u001b[0mx1\u001b[0m \u001b[0;34m=\u001b[0m \u001b[0mself\u001b[0m\u001b[0;34m.\u001b[0m\u001b[0mconv\u001b[0m\u001b[0;34m(\u001b[0m\u001b[0mx\u001b[0m\u001b[0;34m)\u001b[0m\u001b[0;34m\u001b[0m\u001b[0;34m\u001b[0m\u001b[0m\n\u001b[0m\u001b[1;32m     88\u001b[0m         \u001b[0mx2\u001b[0m \u001b[0;34m=\u001b[0m \u001b[0mself\u001b[0m\u001b[0;34m.\u001b[0m\u001b[0menc1\u001b[0m\u001b[0;34m(\u001b[0m\u001b[0mx1\u001b[0m\u001b[0;34m)\u001b[0m\u001b[0;34m\u001b[0m\u001b[0;34m\u001b[0m\u001b[0m\n\u001b[1;32m     89\u001b[0m         \u001b[0mx3\u001b[0m \u001b[0;34m=\u001b[0m \u001b[0mself\u001b[0m\u001b[0;34m.\u001b[0m\u001b[0menc2\u001b[0m\u001b[0;34m(\u001b[0m\u001b[0mx2\u001b[0m\u001b[0;34m)\u001b[0m\u001b[0;34m\u001b[0m\u001b[0;34m\u001b[0m\u001b[0m\n",
            "\u001b[0;32m/usr/local/lib/python3.7/dist-packages/torch/nn/modules/module.py\u001b[0m in \u001b[0;36m_call_impl\u001b[0;34m(self, *input, **kwargs)\u001b[0m\n\u001b[1;32m   1108\u001b[0m         if not (self._backward_hooks or self._forward_hooks or self._forward_pre_hooks or _global_backward_hooks\n\u001b[1;32m   1109\u001b[0m                 or _global_forward_hooks or _global_forward_pre_hooks):\n\u001b[0;32m-> 1110\u001b[0;31m             \u001b[0;32mreturn\u001b[0m \u001b[0mforward_call\u001b[0m\u001b[0;34m(\u001b[0m\u001b[0;34m*\u001b[0m\u001b[0minput\u001b[0m\u001b[0;34m,\u001b[0m \u001b[0;34m**\u001b[0m\u001b[0mkwargs\u001b[0m\u001b[0;34m)\u001b[0m\u001b[0;34m\u001b[0m\u001b[0;34m\u001b[0m\u001b[0m\n\u001b[0m\u001b[1;32m   1111\u001b[0m         \u001b[0;31m# Do not call functions when jit is used\u001b[0m\u001b[0;34m\u001b[0m\u001b[0;34m\u001b[0m\u001b[0;34m\u001b[0m\u001b[0m\n\u001b[1;32m   1112\u001b[0m         \u001b[0mfull_backward_hooks\u001b[0m\u001b[0;34m,\u001b[0m \u001b[0mnon_full_backward_hooks\u001b[0m \u001b[0;34m=\u001b[0m \u001b[0;34m[\u001b[0m\u001b[0;34m]\u001b[0m\u001b[0;34m,\u001b[0m \u001b[0;34m[\u001b[0m\u001b[0;34m]\u001b[0m\u001b[0;34m\u001b[0m\u001b[0;34m\u001b[0m\u001b[0m\n",
            "\u001b[0;32m<ipython-input-43-607cf6d09c85>\u001b[0m in \u001b[0;36mforward\u001b[0;34m(self, x)\u001b[0m\n\u001b[1;32m     14\u001b[0m \u001b[0;34m\u001b[0m\u001b[0m\n\u001b[1;32m     15\u001b[0m     \u001b[0;32mdef\u001b[0m \u001b[0mforward\u001b[0m\u001b[0;34m(\u001b[0m\u001b[0mself\u001b[0m\u001b[0;34m,\u001b[0m\u001b[0mx\u001b[0m\u001b[0;34m)\u001b[0m\u001b[0;34m:\u001b[0m\u001b[0;34m\u001b[0m\u001b[0;34m\u001b[0m\u001b[0m\n\u001b[0;32m---> 16\u001b[0;31m         \u001b[0;32mreturn\u001b[0m \u001b[0mself\u001b[0m\u001b[0;34m.\u001b[0m\u001b[0mdouble_conv\u001b[0m\u001b[0;34m(\u001b[0m\u001b[0mx\u001b[0m\u001b[0;34m)\u001b[0m\u001b[0;34m\u001b[0m\u001b[0;34m\u001b[0m\u001b[0m\n\u001b[0m\u001b[1;32m     17\u001b[0m \u001b[0;34m\u001b[0m\u001b[0m\n\u001b[1;32m     18\u001b[0m \u001b[0;34m\u001b[0m\u001b[0m\n",
            "\u001b[0;32m/usr/local/lib/python3.7/dist-packages/torch/nn/modules/module.py\u001b[0m in \u001b[0;36m_call_impl\u001b[0;34m(self, *input, **kwargs)\u001b[0m\n\u001b[1;32m   1108\u001b[0m         if not (self._backward_hooks or self._forward_hooks or self._forward_pre_hooks or _global_backward_hooks\n\u001b[1;32m   1109\u001b[0m                 or _global_forward_hooks or _global_forward_pre_hooks):\n\u001b[0;32m-> 1110\u001b[0;31m             \u001b[0;32mreturn\u001b[0m \u001b[0mforward_call\u001b[0m\u001b[0;34m(\u001b[0m\u001b[0;34m*\u001b[0m\u001b[0minput\u001b[0m\u001b[0;34m,\u001b[0m \u001b[0;34m**\u001b[0m\u001b[0mkwargs\u001b[0m\u001b[0;34m)\u001b[0m\u001b[0;34m\u001b[0m\u001b[0;34m\u001b[0m\u001b[0m\n\u001b[0m\u001b[1;32m   1111\u001b[0m         \u001b[0;31m# Do not call functions when jit is used\u001b[0m\u001b[0;34m\u001b[0m\u001b[0;34m\u001b[0m\u001b[0;34m\u001b[0m\u001b[0m\n\u001b[1;32m   1112\u001b[0m         \u001b[0mfull_backward_hooks\u001b[0m\u001b[0;34m,\u001b[0m \u001b[0mnon_full_backward_hooks\u001b[0m \u001b[0;34m=\u001b[0m \u001b[0;34m[\u001b[0m\u001b[0;34m]\u001b[0m\u001b[0;34m,\u001b[0m \u001b[0;34m[\u001b[0m\u001b[0;34m]\u001b[0m\u001b[0;34m\u001b[0m\u001b[0;34m\u001b[0m\u001b[0m\n",
            "\u001b[0;32m/usr/local/lib/python3.7/dist-packages/torch/nn/modules/container.py\u001b[0m in \u001b[0;36mforward\u001b[0;34m(self, input)\u001b[0m\n\u001b[1;32m    139\u001b[0m     \u001b[0;32mdef\u001b[0m \u001b[0mforward\u001b[0m\u001b[0;34m(\u001b[0m\u001b[0mself\u001b[0m\u001b[0;34m,\u001b[0m \u001b[0minput\u001b[0m\u001b[0;34m)\u001b[0m\u001b[0;34m:\u001b[0m\u001b[0;34m\u001b[0m\u001b[0;34m\u001b[0m\u001b[0m\n\u001b[1;32m    140\u001b[0m         \u001b[0;32mfor\u001b[0m \u001b[0mmodule\u001b[0m \u001b[0;32min\u001b[0m \u001b[0mself\u001b[0m\u001b[0;34m:\u001b[0m\u001b[0;34m\u001b[0m\u001b[0;34m\u001b[0m\u001b[0m\n\u001b[0;32m--> 141\u001b[0;31m             \u001b[0minput\u001b[0m \u001b[0;34m=\u001b[0m \u001b[0mmodule\u001b[0m\u001b[0;34m(\u001b[0m\u001b[0minput\u001b[0m\u001b[0;34m)\u001b[0m\u001b[0;34m\u001b[0m\u001b[0;34m\u001b[0m\u001b[0m\n\u001b[0m\u001b[1;32m    142\u001b[0m         \u001b[0;32mreturn\u001b[0m \u001b[0minput\u001b[0m\u001b[0;34m\u001b[0m\u001b[0;34m\u001b[0m\u001b[0m\n\u001b[1;32m    143\u001b[0m \u001b[0;34m\u001b[0m\u001b[0m\n",
            "\u001b[0;32m/usr/local/lib/python3.7/dist-packages/torch/nn/modules/module.py\u001b[0m in \u001b[0;36m_call_impl\u001b[0;34m(self, *input, **kwargs)\u001b[0m\n\u001b[1;32m   1108\u001b[0m         if not (self._backward_hooks or self._forward_hooks or self._forward_pre_hooks or _global_backward_hooks\n\u001b[1;32m   1109\u001b[0m                 or _global_forward_hooks or _global_forward_pre_hooks):\n\u001b[0;32m-> 1110\u001b[0;31m             \u001b[0;32mreturn\u001b[0m \u001b[0mforward_call\u001b[0m\u001b[0;34m(\u001b[0m\u001b[0;34m*\u001b[0m\u001b[0minput\u001b[0m\u001b[0;34m,\u001b[0m \u001b[0;34m**\u001b[0m\u001b[0mkwargs\u001b[0m\u001b[0;34m)\u001b[0m\u001b[0;34m\u001b[0m\u001b[0;34m\u001b[0m\u001b[0m\n\u001b[0m\u001b[1;32m   1111\u001b[0m         \u001b[0;31m# Do not call functions when jit is used\u001b[0m\u001b[0;34m\u001b[0m\u001b[0;34m\u001b[0m\u001b[0;34m\u001b[0m\u001b[0m\n\u001b[1;32m   1112\u001b[0m         \u001b[0mfull_backward_hooks\u001b[0m\u001b[0;34m,\u001b[0m \u001b[0mnon_full_backward_hooks\u001b[0m \u001b[0;34m=\u001b[0m \u001b[0;34m[\u001b[0m\u001b[0;34m]\u001b[0m\u001b[0;34m,\u001b[0m \u001b[0;34m[\u001b[0m\u001b[0;34m]\u001b[0m\u001b[0;34m\u001b[0m\u001b[0;34m\u001b[0m\u001b[0m\n",
            "\u001b[0;32m/usr/local/lib/python3.7/dist-packages/torch/nn/modules/conv.py\u001b[0m in \u001b[0;36mforward\u001b[0;34m(self, input)\u001b[0m\n\u001b[1;32m    445\u001b[0m \u001b[0;34m\u001b[0m\u001b[0m\n\u001b[1;32m    446\u001b[0m     \u001b[0;32mdef\u001b[0m \u001b[0mforward\u001b[0m\u001b[0;34m(\u001b[0m\u001b[0mself\u001b[0m\u001b[0;34m,\u001b[0m \u001b[0minput\u001b[0m\u001b[0;34m:\u001b[0m \u001b[0mTensor\u001b[0m\u001b[0;34m)\u001b[0m \u001b[0;34m->\u001b[0m \u001b[0mTensor\u001b[0m\u001b[0;34m:\u001b[0m\u001b[0;34m\u001b[0m\u001b[0;34m\u001b[0m\u001b[0m\n\u001b[0;32m--> 447\u001b[0;31m         \u001b[0;32mreturn\u001b[0m \u001b[0mself\u001b[0m\u001b[0;34m.\u001b[0m\u001b[0m_conv_forward\u001b[0m\u001b[0;34m(\u001b[0m\u001b[0minput\u001b[0m\u001b[0;34m,\u001b[0m \u001b[0mself\u001b[0m\u001b[0;34m.\u001b[0m\u001b[0mweight\u001b[0m\u001b[0;34m,\u001b[0m \u001b[0mself\u001b[0m\u001b[0;34m.\u001b[0m\u001b[0mbias\u001b[0m\u001b[0;34m)\u001b[0m\u001b[0;34m\u001b[0m\u001b[0;34m\u001b[0m\u001b[0m\n\u001b[0m\u001b[1;32m    448\u001b[0m \u001b[0;34m\u001b[0m\u001b[0m\n\u001b[1;32m    449\u001b[0m \u001b[0;32mclass\u001b[0m \u001b[0mConv3d\u001b[0m\u001b[0;34m(\u001b[0m\u001b[0m_ConvNd\u001b[0m\u001b[0;34m)\u001b[0m\u001b[0;34m:\u001b[0m\u001b[0;34m\u001b[0m\u001b[0;34m\u001b[0m\u001b[0m\n",
            "\u001b[0;32m/usr/local/lib/python3.7/dist-packages/torch/nn/modules/conv.py\u001b[0m in \u001b[0;36m_conv_forward\u001b[0;34m(self, input, weight, bias)\u001b[0m\n\u001b[1;32m    442\u001b[0m                             _pair(0), self.dilation, self.groups)\n\u001b[1;32m    443\u001b[0m         return F.conv2d(input, weight, bias, self.stride,\n\u001b[0;32m--> 444\u001b[0;31m                         self.padding, self.dilation, self.groups)\n\u001b[0m\u001b[1;32m    445\u001b[0m \u001b[0;34m\u001b[0m\u001b[0m\n\u001b[1;32m    446\u001b[0m     \u001b[0;32mdef\u001b[0m \u001b[0mforward\u001b[0m\u001b[0;34m(\u001b[0m\u001b[0mself\u001b[0m\u001b[0;34m,\u001b[0m \u001b[0minput\u001b[0m\u001b[0;34m:\u001b[0m \u001b[0mTensor\u001b[0m\u001b[0;34m)\u001b[0m \u001b[0;34m->\u001b[0m \u001b[0mTensor\u001b[0m\u001b[0;34m:\u001b[0m\u001b[0;34m\u001b[0m\u001b[0;34m\u001b[0m\u001b[0m\n",
            "\u001b[0;31mKeyboardInterrupt\u001b[0m: "
          ]
        }
      ],
      "source": [
        "for fold in range(1):\n",
        "    print(f'#'*35)\n",
        "    print(f'######### Fold: {fold}')\n",
        "    print(f'#'*35)\n",
        "    model     = build_model()\n",
        "    optimizer = optim.Adam(model.parameters(), lr=CFG.lr, weight_decay=CFG.wd)\n",
        "    scheduler = fetch_scheduler(optimizer)\n",
        "    model, history = run_training(model, optimizer, scheduler,\n",
        "                                  device=CFG.device,\n",
        "                                  num_epochs=CFG.epochs)\n",
        "    "
      ]
    },
    {
      "cell_type": "markdown",
      "id": "9793ef80",
      "metadata": {
        "papermill": {
          "duration": 6.053918,
          "end_time": "2022-05-03T13:09:32.686941",
          "exception": false,
          "start_time": "2022-05-03T13:09:26.633023",
          "status": "completed"
        },
        "tags": [],
        "id": "9793ef80"
      },
      "source": [
        "# Loss, Dice,Jaccard Curves"
      ]
    },
    {
      "cell_type": "code",
      "execution_count": 52,
      "id": "74ca4e32",
      "metadata": {
        "_kg_hide-input": true,
        "execution": {
          "iopub.execute_input": "2022-05-03T13:09:44.742127Z",
          "iopub.status.busy": "2022-05-03T13:09:44.741846Z",
          "iopub.status.idle": "2022-05-03T13:09:44.961592Z",
          "shell.execute_reply": "2022-05-03T13:09:44.960900Z"
        },
        "papermill": {
          "duration": 6.147958,
          "end_time": "2022-05-03T13:09:44.963464",
          "exception": false,
          "start_time": "2022-05-03T13:09:38.815506",
          "status": "completed"
        },
        "tags": [],
        "colab": {
          "base_uri": "https://localhost:8080/",
          "height": 252
        },
        "id": "74ca4e32",
        "outputId": "c20328a6-5261-47b2-c0f3-44e79463ef0a"
      },
      "outputs": [
        {
          "output_type": "error",
          "ename": "NameError",
          "evalue": "ignored",
          "traceback": [
            "\u001b[0;31m---------------------------------------------------------------------------\u001b[0m",
            "\u001b[0;31mNameError\u001b[0m                                 Traceback (most recent call last)",
            "\u001b[0;32m<ipython-input-52-8d520b16db25>\u001b[0m in \u001b[0;36m<module>\u001b[0;34m()\u001b[0m\n\u001b[1;32m      1\u001b[0m \u001b[0;31m# PLOT TRAINING\u001b[0m\u001b[0;34m\u001b[0m\u001b[0;34m\u001b[0m\u001b[0;34m\u001b[0m\u001b[0m\n\u001b[1;32m      2\u001b[0m \u001b[0mplt\u001b[0m\u001b[0;34m.\u001b[0m\u001b[0mfigure\u001b[0m\u001b[0;34m(\u001b[0m\u001b[0mfigsize\u001b[0m\u001b[0;34m=\u001b[0m\u001b[0;34m(\u001b[0m\u001b[0;36m15\u001b[0m\u001b[0;34m,\u001b[0m\u001b[0;36m5\u001b[0m\u001b[0;34m)\u001b[0m\u001b[0;34m)\u001b[0m\u001b[0;34m\u001b[0m\u001b[0;34m\u001b[0m\u001b[0m\n\u001b[0;32m----> 3\u001b[0;31m \u001b[0mplt\u001b[0m\u001b[0;34m.\u001b[0m\u001b[0mplot\u001b[0m\u001b[0;34m(\u001b[0m\u001b[0mrange\u001b[0m\u001b[0;34m(\u001b[0m\u001b[0mCFG\u001b[0m\u001b[0;34m.\u001b[0m\u001b[0mepochs\u001b[0m\u001b[0;34m)\u001b[0m\u001b[0;34m,\u001b[0m\u001b[0mhistory\u001b[0m\u001b[0;34m[\u001b[0m\u001b[0;34m'Valid Dice'\u001b[0m\u001b[0;34m]\u001b[0m\u001b[0;34m,\u001b[0m\u001b[0mlabel\u001b[0m\u001b[0;34m=\u001b[0m\u001b[0;34m'Valid Dice'\u001b[0m\u001b[0;34m)\u001b[0m\u001b[0;34m\u001b[0m\u001b[0;34m\u001b[0m\u001b[0m\n\u001b[0m\u001b[1;32m      4\u001b[0m \u001b[0mplt\u001b[0m\u001b[0;34m.\u001b[0m\u001b[0mplot\u001b[0m\u001b[0;34m(\u001b[0m\u001b[0mrange\u001b[0m\u001b[0;34m(\u001b[0m\u001b[0mCFG\u001b[0m\u001b[0;34m.\u001b[0m\u001b[0mepochs\u001b[0m\u001b[0;34m)\u001b[0m\u001b[0;34m,\u001b[0m\u001b[0mhistory\u001b[0m\u001b[0;34m[\u001b[0m\u001b[0;34m'Valid Jaccard'\u001b[0m\u001b[0;34m]\u001b[0m\u001b[0;34m,\u001b[0m\u001b[0mlabel\u001b[0m\u001b[0;34m=\u001b[0m\u001b[0;34m'Valid Jaccard'\u001b[0m\u001b[0;34m)\u001b[0m\u001b[0;34m\u001b[0m\u001b[0;34m\u001b[0m\u001b[0m\n\u001b[1;32m      5\u001b[0m \u001b[0mplt\u001b[0m\u001b[0;34m.\u001b[0m\u001b[0mtitle\u001b[0m\u001b[0;34m(\u001b[0m\u001b[0;34m'Dice & Jaccard'\u001b[0m\u001b[0;34m)\u001b[0m\u001b[0;34m;\u001b[0m \u001b[0mplt\u001b[0m\u001b[0;34m.\u001b[0m\u001b[0mxlabel\u001b[0m\u001b[0;34m(\u001b[0m\u001b[0;34m'Epoch'\u001b[0m\u001b[0;34m)\u001b[0m\u001b[0;34m;\u001b[0m \u001b[0mplt\u001b[0m\u001b[0;34m.\u001b[0m\u001b[0mylabel\u001b[0m\u001b[0;34m(\u001b[0m\u001b[0;34m''\u001b[0m\u001b[0;34m)\u001b[0m\u001b[0;34m;\u001b[0m\u001b[0mplt\u001b[0m\u001b[0;34m.\u001b[0m\u001b[0mlegend\u001b[0m\u001b[0;34m(\u001b[0m\u001b[0;34m)\u001b[0m\u001b[0;34m;\u001b[0m\u001b[0;34m\u001b[0m\u001b[0;34m\u001b[0m\u001b[0m\n",
            "\u001b[0;31mNameError\u001b[0m: name 'history' is not defined"
          ]
        },
        {
          "output_type": "display_data",
          "data": {
            "text/plain": [
              "<Figure size 1080x360 with 0 Axes>"
            ]
          },
          "metadata": {}
        }
      ],
      "source": [
        "# PLOT TRAINING\n",
        "plt.figure(figsize=(15,5))\n",
        "plt.plot(range(CFG.epochs),history['Valid Dice'],label='Valid Dice')\n",
        "plt.plot(range(CFG.epochs),history['Valid Jaccard'],label='Valid Jaccard')\n",
        "plt.title('Dice & Jaccard'); plt.xlabel('Epoch'); plt.ylabel('');plt.legend(); \n",
        "plt.show()"
      ]
    },
    {
      "cell_type": "code",
      "execution_count": 53,
      "id": "ac0f21e0",
      "metadata": {
        "_kg_hide-input": true,
        "execution": {
          "iopub.execute_input": "2022-05-03T13:09:57.593842Z",
          "iopub.status.busy": "2022-05-03T13:09:57.593574Z",
          "iopub.status.idle": "2022-05-03T13:09:57.795551Z",
          "shell.execute_reply": "2022-05-03T13:09:57.794888Z"
        },
        "papermill": {
          "duration": 6.546853,
          "end_time": "2022-05-03T13:09:57.797447",
          "exception": false,
          "start_time": "2022-05-03T13:09:51.250594",
          "status": "completed"
        },
        "tags": [],
        "colab": {
          "base_uri": "https://localhost:8080/",
          "height": 252
        },
        "id": "ac0f21e0",
        "outputId": "24298b3c-2780-4974-b987-ac6afcea4ccb"
      },
      "outputs": [
        {
          "output_type": "error",
          "ename": "NameError",
          "evalue": "ignored",
          "traceback": [
            "\u001b[0;31m---------------------------------------------------------------------------\u001b[0m",
            "\u001b[0;31mNameError\u001b[0m                                 Traceback (most recent call last)",
            "\u001b[0;32m<ipython-input-53-1da414655858>\u001b[0m in \u001b[0;36m<module>\u001b[0;34m()\u001b[0m\n\u001b[1;32m      1\u001b[0m \u001b[0;31m# PLOT TRAINING\u001b[0m\u001b[0;34m\u001b[0m\u001b[0;34m\u001b[0m\u001b[0;34m\u001b[0m\u001b[0m\n\u001b[1;32m      2\u001b[0m \u001b[0mplt\u001b[0m\u001b[0;34m.\u001b[0m\u001b[0mfigure\u001b[0m\u001b[0;34m(\u001b[0m\u001b[0mfigsize\u001b[0m\u001b[0;34m=\u001b[0m\u001b[0;34m(\u001b[0m\u001b[0;36m15\u001b[0m\u001b[0;34m,\u001b[0m\u001b[0;36m5\u001b[0m\u001b[0;34m)\u001b[0m\u001b[0;34m)\u001b[0m\u001b[0;34m\u001b[0m\u001b[0;34m\u001b[0m\u001b[0m\n\u001b[0;32m----> 3\u001b[0;31m \u001b[0mplt\u001b[0m\u001b[0;34m.\u001b[0m\u001b[0mplot\u001b[0m\u001b[0;34m(\u001b[0m\u001b[0mrange\u001b[0m\u001b[0;34m(\u001b[0m\u001b[0mCFG\u001b[0m\u001b[0;34m.\u001b[0m\u001b[0mepochs\u001b[0m\u001b[0;34m)\u001b[0m\u001b[0;34m,\u001b[0m\u001b[0mhistory\u001b[0m\u001b[0;34m[\u001b[0m\u001b[0;34m'Train Loss'\u001b[0m\u001b[0;34m]\u001b[0m\u001b[0;34m,\u001b[0m\u001b[0mlabel\u001b[0m\u001b[0;34m=\u001b[0m\u001b[0;34m'Train Loss'\u001b[0m\u001b[0;34m)\u001b[0m\u001b[0;34m\u001b[0m\u001b[0;34m\u001b[0m\u001b[0m\n\u001b[0m\u001b[1;32m      4\u001b[0m \u001b[0mplt\u001b[0m\u001b[0;34m.\u001b[0m\u001b[0mplot\u001b[0m\u001b[0;34m(\u001b[0m\u001b[0mrange\u001b[0m\u001b[0;34m(\u001b[0m\u001b[0mCFG\u001b[0m\u001b[0;34m.\u001b[0m\u001b[0mepochs\u001b[0m\u001b[0;34m)\u001b[0m\u001b[0;34m,\u001b[0m\u001b[0mhistory\u001b[0m\u001b[0;34m[\u001b[0m\u001b[0;34m'Valid Loss'\u001b[0m\u001b[0;34m]\u001b[0m\u001b[0;34m,\u001b[0m\u001b[0mlabel\u001b[0m\u001b[0;34m=\u001b[0m\u001b[0;34m'Valid Loss'\u001b[0m\u001b[0;34m)\u001b[0m\u001b[0;34m\u001b[0m\u001b[0;34m\u001b[0m\u001b[0m\n\u001b[1;32m      5\u001b[0m \u001b[0mplt\u001b[0m\u001b[0;34m.\u001b[0m\u001b[0mtitle\u001b[0m\u001b[0;34m(\u001b[0m\u001b[0;34m'LOSS'\u001b[0m\u001b[0;34m)\u001b[0m\u001b[0;34m;\u001b[0m \u001b[0mplt\u001b[0m\u001b[0;34m.\u001b[0m\u001b[0mxlabel\u001b[0m\u001b[0;34m(\u001b[0m\u001b[0;34m'Epoch'\u001b[0m\u001b[0;34m)\u001b[0m\u001b[0;34m;\u001b[0m \u001b[0mplt\u001b[0m\u001b[0;34m.\u001b[0m\u001b[0mylabel\u001b[0m\u001b[0;34m(\u001b[0m\u001b[0;34m'loss'\u001b[0m\u001b[0;34m)\u001b[0m\u001b[0;34m;\u001b[0m\u001b[0mplt\u001b[0m\u001b[0;34m.\u001b[0m\u001b[0mlegend\u001b[0m\u001b[0;34m(\u001b[0m\u001b[0;34m)\u001b[0m\u001b[0;34m;\u001b[0m\u001b[0;34m\u001b[0m\u001b[0;34m\u001b[0m\u001b[0m\n",
            "\u001b[0;31mNameError\u001b[0m: name 'history' is not defined"
          ]
        },
        {
          "output_type": "display_data",
          "data": {
            "text/plain": [
              "<Figure size 1080x360 with 0 Axes>"
            ]
          },
          "metadata": {}
        }
      ],
      "source": [
        "# PLOT TRAINING\n",
        "plt.figure(figsize=(15,5))\n",
        "plt.plot(range(CFG.epochs),history['Train Loss'],label='Train Loss')\n",
        "plt.plot(range(CFG.epochs),history['Valid Loss'],label='Valid Loss')\n",
        "plt.title('LOSS'); plt.xlabel('Epoch'); plt.ylabel('loss');plt.legend(); \n",
        "plt.show()"
      ]
    },
    {
      "cell_type": "markdown",
      "id": "5b8df73a",
      "metadata": {
        "papermill": {
          "duration": 5.788026,
          "end_time": "2022-05-03T13:10:09.786579",
          "exception": false,
          "start_time": "2022-05-03T13:10:03.998553",
          "status": "completed"
        },
        "tags": [],
        "id": "5b8df73a"
      },
      "source": [
        "# Prediction"
      ]
    },
    {
      "cell_type": "code",
      "execution_count": null,
      "id": "a5ac291e",
      "metadata": {
        "execution": {
          "iopub.execute_input": "2022-05-03T13:10:21.864427Z",
          "iopub.status.busy": "2022-05-03T13:10:21.864180Z",
          "iopub.status.idle": "2022-05-03T13:10:23.066143Z",
          "shell.execute_reply": "2022-05-03T13:10:23.065296Z"
        },
        "papermill": {
          "duration": 7.090291,
          "end_time": "2022-05-03T13:10:23.068236",
          "exception": false,
          "start_time": "2022-05-03T13:10:15.977945",
          "status": "completed"
        },
        "tags": [],
        "id": "a5ac291e"
      },
      "outputs": [],
      "source": [
        "test_dataset = BuildDataset(df_train[df_train.index.isin(valid_ids)], \n",
        "                            transforms=data_transforms['valid'])\n",
        "test_loader  = DataLoader(test_dataset, batch_size=5, \n",
        "                          num_workers=4, shuffle=False, pin_memory=True)\n",
        "\n",
        "imgs, msks =  next(iter(test_loader))\n",
        "\n",
        "imgs = imgs.to(CFG.device, dtype=torch.float)\n",
        "\n",
        "preds = []\n",
        "for fold in range(1):\n",
        "    model = load_model(f\"best_epoch-{fold:02d}.bin\")\n",
        "    with torch.no_grad():\n",
        "        pred = model(imgs)\n",
        "        pred = (nn.Sigmoid()(pred)>0.5).double()\n",
        "    preds.append(pred)\n",
        "    \n",
        "imgs  = imgs.cpu().detach()\n",
        "preds = torch.mean(torch.stack(preds, dim=0), dim=0).cpu().detach()"
      ]
    },
    {
      "cell_type": "code",
      "execution_count": null,
      "id": "9bfd1649",
      "metadata": {
        "execution": {
          "iopub.execute_input": "2022-05-03T13:10:35.599883Z",
          "iopub.status.busy": "2022-05-03T13:10:35.599600Z",
          "iopub.status.idle": "2022-05-03T13:10:36.323452Z",
          "shell.execute_reply": "2022-05-03T13:10:36.322831Z"
        },
        "papermill": {
          "duration": 6.844596,
          "end_time": "2022-05-03T13:10:36.325946",
          "exception": false,
          "start_time": "2022-05-03T13:10:29.481350",
          "status": "completed"
        },
        "tags": [],
        "id": "9bfd1649"
      },
      "outputs": [],
      "source": [
        "plot_batch(imgs, preds, size=5)"
      ]
    },
    {
      "cell_type": "markdown",
      "id": "44802f12",
      "metadata": {
        "papermill": {
          "duration": 6.194077,
          "end_time": "2022-05-03T13:10:48.409031",
          "exception": false,
          "start_time": "2022-05-03T13:10:42.214954",
          "status": "completed"
        },
        "tags": [],
        "id": "44802f12"
      },
      "source": [
        "# Computing Dice & Jaccard for Classes"
      ]
    },
    {
      "cell_type": "code",
      "execution_count": null,
      "id": "cb90151c",
      "metadata": {
        "execution": {
          "iopub.execute_input": "2022-05-03T13:11:01.108197Z",
          "iopub.status.busy": "2022-05-03T13:11:01.107896Z",
          "iopub.status.idle": "2022-05-03T13:11:01.124220Z",
          "shell.execute_reply": "2022-05-03T13:11:01.123539Z"
        },
        "papermill": {
          "duration": 6.791625,
          "end_time": "2022-05-03T13:11:01.126009",
          "exception": false,
          "start_time": "2022-05-03T13:10:54.334384",
          "status": "completed"
        },
        "tags": [],
        "id": "cb90151c"
      },
      "outputs": [],
      "source": [
        "def dice_coef_metric_per_classes(probabilities: np.ndarray,\n",
        "                                    truth: np.ndarray,\n",
        "                                    treshold: float = 0.5,\n",
        "                                    eps: float = 1e-9,\n",
        "                                    classes: list = [\"Large Bowel\", \"Small Bowel\", \"Stomach\"]) -> np.ndarray:\n",
        "    \"\"\"\n",
        "    Calculate Dice score for data batch and for each class.\n",
        "    Params:\n",
        "        probobilities: model outputs after activation function.\n",
        "        truth: model targets.\n",
        "        threshold: threshold for probabilities.\n",
        "        eps: additive to refine the estimate.\n",
        "        classes: list with name classes.\n",
        "        Returns: dict with dice scores for each class.\n",
        "    \"\"\"\n",
        "    scores = {key: list() for key in classes}\n",
        "    num = probabilities.shape[0]\n",
        "    num_classes = probabilities.shape[1]\n",
        "    predictions = (probabilities >= treshold).astype(np.float32)\n",
        "    assert(predictions.shape == truth.shape)\n",
        "\n",
        "    for i in range(num):\n",
        "        for class_ in range(num_classes):\n",
        "            prediction = predictions[i][class_]\n",
        "            truth_ = truth[i][class_]\n",
        "            intersection = 2.0 * (truth_ * prediction).sum()\n",
        "            union = truth_.sum() + prediction.sum()\n",
        "            if truth_.sum() == 0 and prediction.sum() == 0:\n",
        "                 scores[classes[class_]].append(1.0)\n",
        "            else:\n",
        "                scores[classes[class_]].append((intersection + eps) / union)\n",
        "                \n",
        "    return scores\n",
        "\n",
        "\n",
        "def jaccard_coef_metric_per_classes(probabilities: np.ndarray,\n",
        "               truth: np.ndarray,\n",
        "               treshold: float = 0.5,\n",
        "               eps: float = 1e-9,\n",
        "               classes: list = [\"Large Bowel\", \"Small Bowel\", \"Stomach\"]) -> np.ndarray:\n",
        "    \"\"\"\n",
        "    Calculate Jaccard index for data batch and for each class.\n",
        "    Params:\n",
        "        probobilities: model outputs after activation function.\n",
        "        truth: model targets.\n",
        "        threshold: threshold for probabilities.\n",
        "        eps: additive to refine the estimate.\n",
        "        classes: list with name classes.\n",
        "        Returns: dict with jaccard scores for each class.\"\n",
        "    \"\"\"\n",
        "    scores = {key: list() for key in classes}\n",
        "    num = probabilities.shape[0]\n",
        "    num_classes = probabilities.shape[1]\n",
        "    predictions = (probabilities >= treshold).astype(np.float32)\n",
        "    assert(predictions.shape == truth.shape)\n",
        "\n",
        "    for i in range(num):\n",
        "        for class_ in range(num_classes):\n",
        "            prediction = predictions[i][class_]\n",
        "            truth_ = truth[i][class_]\n",
        "            intersection = (prediction * truth_).sum()\n",
        "            union = (prediction.sum() + truth_.sum()) - intersection + eps\n",
        "            if truth_.sum() == 0 and prediction.sum() == 0:\n",
        "                 scores[classes[class_]].append(1.0)\n",
        "            else:\n",
        "                scores[classes[class_]].append((intersection + eps) / union)\n",
        "\n",
        "    return scores"
      ]
    },
    {
      "cell_type": "code",
      "execution_count": null,
      "id": "7e454eca",
      "metadata": {
        "execution": {
          "iopub.execute_input": "2022-05-03T13:11:13.076346Z",
          "iopub.status.busy": "2022-05-03T13:11:13.076058Z",
          "iopub.status.idle": "2022-05-03T13:11:13.084646Z",
          "shell.execute_reply": "2022-05-03T13:11:13.083834Z"
        },
        "papermill": {
          "duration": 5.834118,
          "end_time": "2022-05-03T13:11:13.086785",
          "exception": false,
          "start_time": "2022-05-03T13:11:07.252667",
          "status": "completed"
        },
        "tags": [],
        "id": "7e454eca"
      },
      "outputs": [],
      "source": [
        "def compute_scores_per_classes(model,\n",
        "                               dataloader,\n",
        "                               classes):\n",
        "    \"\"\"\n",
        "    Compute Dice and Jaccard coefficients for each class.\n",
        "    Params:\n",
        "        model: neural net for make predictions.\n",
        "        dataloader: dataset object to load data from.\n",
        "        classes: list with classes.\n",
        "        Returns: dictionaries with dice and jaccard coefficients for each class for each slice.\n",
        "    \"\"\"\n",
        "\n",
        "    dice_scores_per_classes = {key: list() for key in classes}\n",
        "    iou_scores_per_classes = {key: list() for key in classes}\n",
        "    with torch.no_grad():\n",
        "        for i, data in enumerate(dataloader):\n",
        "            imgs, targets = data[0], data[1]\n",
        "            imgs, targets = imgs.to(CFG.device), targets.to(CFG.device)\n",
        "            logits = model(imgs)\n",
        "            logits = logits.detach().cpu().numpy()\n",
        "            targets = targets.detach().cpu().numpy()\n",
        "            \n",
        "            dice_scores = dice_coef_metric_per_classes(logits, targets)\n",
        "            iou_scores = jaccard_coef_metric_per_classes(logits, targets)\n",
        "\n",
        "            \n",
        "            for key in dice_scores.keys():\n",
        "                dice_scores_per_classes[key].extend(dice_scores[key])\n",
        "\n",
        "            for key in iou_scores.keys():\n",
        "                iou_scores_per_classes[key].extend(iou_scores[key])\n",
        "                \n",
        "    return dice_scores_per_classes, iou_scores_per_classes"
      ]
    },
    {
      "cell_type": "code",
      "execution_count": null,
      "id": "6f48933b",
      "metadata": {
        "execution": {
          "iopub.execute_input": "2022-05-03T13:11:25.208466Z",
          "iopub.status.busy": "2022-05-03T13:11:25.208083Z",
          "iopub.status.idle": "2022-05-03T13:12:24.002693Z",
          "shell.execute_reply": "2022-05-03T13:12:24.001749Z"
        },
        "papermill": {
          "duration": 64.575282,
          "end_time": "2022-05-03T13:12:24.005166",
          "exception": false,
          "start_time": "2022-05-03T13:11:19.429884",
          "status": "completed"
        },
        "tags": [],
        "id": "6f48933b"
      },
      "outputs": [],
      "source": [
        "dice_scores_per_classes, iou_scores_per_classes = compute_scores_per_classes(\n",
        "    model, test_loader, [\"Large Bowel\", \"Small Bowel\", \"Stomach\"]\n",
        "    )"
      ]
    },
    {
      "cell_type": "code",
      "execution_count": null,
      "id": "8ff339a1",
      "metadata": {
        "execution": {
          "iopub.execute_input": "2022-05-03T13:12:36.000817Z",
          "iopub.status.busy": "2022-05-03T13:12:36.000537Z",
          "iopub.status.idle": "2022-05-03T13:12:36.027153Z",
          "shell.execute_reply": "2022-05-03T13:12:36.026227Z"
        },
        "papermill": {
          "duration": 6.10478,
          "end_time": "2022-05-03T13:12:36.029604",
          "exception": false,
          "start_time": "2022-05-03T13:12:29.924824",
          "status": "completed"
        },
        "tags": [],
        "id": "8ff339a1"
      },
      "outputs": [],
      "source": [
        "dice_df = pd.DataFrame(dice_scores_per_classes)\n",
        "dice_df.columns = ['Large Bowel Dice', 'Small Bowel Dice', 'Stomach Dice']\n",
        "\n",
        "iou_df = pd.DataFrame(iou_scores_per_classes)\n",
        "iou_df.columns = ['Large Bowel Jaccard', 'Small Bowel Jaccard', 'Stomach Jaccard']\n",
        "val_metics_df = pd.concat([dice_df, iou_df], axis=1, sort=True)\n",
        "val_metics_df = val_metics_df.loc[:, ['Large Bowel Dice', 'Large Bowel Jaccard', \n",
        "                                      'Small Bowel Dice', 'Small Bowel Jaccard', \n",
        "                                      'Stomach Dice', 'Stomach Jaccard']]\n",
        "val_metics_df.head(3)"
      ]
    },
    {
      "cell_type": "code",
      "execution_count": null,
      "id": "548e4cfd",
      "metadata": {
        "execution": {
          "iopub.execute_input": "2022-05-03T13:12:49.002422Z",
          "iopub.status.busy": "2022-05-03T13:12:49.002142Z",
          "iopub.status.idle": "2022-05-03T13:12:49.283134Z",
          "shell.execute_reply": "2022-05-03T13:12:49.282401Z"
        },
        "papermill": {
          "duration": 6.711672,
          "end_time": "2022-05-03T13:12:49.285115",
          "exception": false,
          "start_time": "2022-05-03T13:12:42.573443",
          "status": "completed"
        },
        "tags": [],
        "id": "548e4cfd"
      },
      "outputs": [],
      "source": [
        "colors = ['#008899', '#aaaa00', '#008899', '#aaaa00', '#008899', '#aaaa00']\n",
        "palette = sns.color_palette(colors, 6)\n",
        "\n",
        "fig, ax = plt.subplots(figsize=(20, 7));\n",
        "sns.barplot(x=val_metics_df.mean().index, y=val_metics_df.mean(), palette=palette, ax=ax);\n",
        "ax.set_xticklabels(val_metics_df.columns, fontsize=12, rotation=0);\n",
        "ax.set_title(\"Dice and IoU \", fontsize=20)\n",
        "\n",
        "for idx, p in enumerate(ax.patches):\n",
        "        percentage = '{:.2f}%'.format(100 * val_metics_df.mean().values[idx])\n",
        "        x = p.get_x() + p.get_width() / 2 - 0.15\n",
        "        y = p.get_y() + p.get_height() + 0.005\n",
        "        ax.annotate(percentage, (x, y), fontsize=15, fontweight=\"bold\")\n"
      ]
    }
  ],
  "metadata": {
    "kernelspec": {
      "display_name": "Python 3",
      "language": "python",
      "name": "python3"
    },
    "language_info": {
      "codemirror_mode": {
        "name": "ipython",
        "version": 3
      },
      "file_extension": ".py",
      "mimetype": "text/x-python",
      "name": "python",
      "nbconvert_exporter": "python",
      "pygments_lexer": "ipython3",
      "version": "3.7.12"
    },
    "papermill": {
      "default_parameters": {},
      "duration": 10035.875766,
      "end_time": "2022-05-03T13:12:58.798775",
      "environment_variables": {},
      "exception": null,
      "input_path": "__notebook__.ipynb",
      "output_path": "__notebook__.ipynb",
      "parameters": {},
      "start_time": "2022-05-03T10:25:42.923009",
      "version": "2.3.4"
    },
    "colab": {
      "name": "uwmgi-unet-pytorch-train-with-eda.ipynb",
      "provenance": [],
      "collapsed_sections": [
        "da6624e2",
        "702dc0f8",
        "8edd26a5",
        "dbe58075",
        "c8b5952f",
        "08ff5afd",
        "d89aae7a",
        "61d3b334",
        "6ce44f9e",
        "ba1a1c2f",
        "1c5d6495",
        "488c405c",
        "9793ef80",
        "5b8df73a",
        "44802f12"
      ]
    }
  },
  "nbformat": 4,
  "nbformat_minor": 5
}